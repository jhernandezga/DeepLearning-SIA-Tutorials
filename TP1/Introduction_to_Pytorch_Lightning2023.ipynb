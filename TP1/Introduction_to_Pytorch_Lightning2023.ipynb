{
  "cells": [
    {
      "cell_type": "markdown",
      "metadata": {
        "colab_type": "text",
        "id": "view-in-github"
      },
      "source": [
        "<a href=\"https://colab.research.google.com/github/thad75/TP-ENSEA-ELEVE/blob/main/3A/SIA/TP%202023%202024/TP1/Introduction_to_Pytorch_Lightning.ipynb\" target=\"_parent\"><img src=\"https://colab.research.google.com/assets/colab-badge.svg\" alt=\"Open In Colab\"/></a>"
      ]
    },
    {
      "cell_type": "code",
      "execution_count": 17,
      "metadata": {
        "id": "CaGntICmaak1"
      },
      "outputs": [
        {
          "name": "stdout",
          "output_type": "stream",
          "text": [
            "Defaulting to user installation because normal site-packages is not writeable\n",
            "Requirement already satisfied: pytorch-lightning in /users/jorghern70/.local/lib/python3.10/site-packages (2.0.9.post0)\n",
            "Requirement already satisfied: packaging>=17.1 in /users/jorghern70/.local/lib/python3.10/site-packages (from pytorch-lightning) (23.1)\n",
            "Requirement already satisfied: tqdm>=4.57.0 in /users/jorghern70/.local/lib/python3.10/site-packages (from pytorch-lightning) (4.66.1)\n",
            "Requirement already satisfied: typing-extensions>=4.0.0 in /users/jorghern70/.local/lib/python3.10/site-packages (from pytorch-lightning) (4.8.0)\n",
            "Requirement already satisfied: fsspec[http]>2021.06.0 in /users/jorghern70/.local/lib/python3.10/site-packages (from pytorch-lightning) (2023.9.2)\n",
            "Requirement already satisfied: torch>=1.11.0 in /users/jorghern70/.local/lib/python3.10/site-packages (from pytorch-lightning) (2.0.1)\n",
            "Requirement already satisfied: lightning-utilities>=0.7.0 in /users/jorghern70/.local/lib/python3.10/site-packages (from pytorch-lightning) (0.9.0)\n",
            "Requirement already satisfied: numpy>=1.17.2 in /users/jorghern70/.local/lib/python3.10/site-packages (from pytorch-lightning) (1.26.0)\n",
            "Requirement already satisfied: torchmetrics>=0.7.0 in /users/jorghern70/.local/lib/python3.10/site-packages (from pytorch-lightning) (1.2.0)\n",
            "Requirement already satisfied: PyYAML>=5.4 in /usr/lib/python3/dist-packages (from pytorch-lightning) (5.4.1)\n",
            "Requirement already satisfied: requests in /usr/lib/python3/dist-packages (from fsspec[http]>2021.06.0->pytorch-lightning) (2.25.1)\n",
            "Requirement already satisfied: aiohttp!=4.0.0a0,!=4.0.0a1 in /users/jorghern70/.local/lib/python3.10/site-packages (from fsspec[http]>2021.06.0->pytorch-lightning) (3.8.5)\n",
            "Requirement already satisfied: nvidia-cudnn-cu11==8.5.0.96 in /users/jorghern70/.local/lib/python3.10/site-packages (from torch>=1.11.0->pytorch-lightning) (8.5.0.96)\n",
            "Requirement already satisfied: nvidia-cuda-runtime-cu11==11.7.99 in /users/jorghern70/.local/lib/python3.10/site-packages (from torch>=1.11.0->pytorch-lightning) (11.7.99)\n",
            "Requirement already satisfied: sympy in /usr/lib/python3/dist-packages (from torch>=1.11.0->pytorch-lightning) (1.9)\n",
            "Requirement already satisfied: nvidia-cusolver-cu11==11.4.0.1 in /users/jorghern70/.local/lib/python3.10/site-packages (from torch>=1.11.0->pytorch-lightning) (11.4.0.1)\n",
            "Requirement already satisfied: nvidia-curand-cu11==10.2.10.91 in /users/jorghern70/.local/lib/python3.10/site-packages (from torch>=1.11.0->pytorch-lightning) (10.2.10.91)\n",
            "Requirement already satisfied: nvidia-cuda-nvrtc-cu11==11.7.99 in /users/jorghern70/.local/lib/python3.10/site-packages (from torch>=1.11.0->pytorch-lightning) (11.7.99)\n",
            "Requirement already satisfied: nvidia-nccl-cu11==2.14.3 in /users/jorghern70/.local/lib/python3.10/site-packages (from torch>=1.11.0->pytorch-lightning) (2.14.3)\n",
            "Requirement already satisfied: jinja2 in /users/jorghern70/.local/lib/python3.10/site-packages (from torch>=1.11.0->pytorch-lightning) (3.1.2)\n",
            "Requirement already satisfied: networkx in /users/jorghern70/.local/lib/python3.10/site-packages (from torch>=1.11.0->pytorch-lightning) (3.1)\n",
            "Requirement already satisfied: nvidia-cufft-cu11==10.9.0.58 in /users/jorghern70/.local/lib/python3.10/site-packages (from torch>=1.11.0->pytorch-lightning) (10.9.0.58)\n",
            "Requirement already satisfied: nvidia-nvtx-cu11==11.7.91 in /users/jorghern70/.local/lib/python3.10/site-packages (from torch>=1.11.0->pytorch-lightning) (11.7.91)\n",
            "Requirement already satisfied: nvidia-cublas-cu11==11.10.3.66 in /users/jorghern70/.local/lib/python3.10/site-packages (from torch>=1.11.0->pytorch-lightning) (11.10.3.66)\n",
            "Requirement already satisfied: triton==2.0.0 in /users/jorghern70/.local/lib/python3.10/site-packages (from torch>=1.11.0->pytorch-lightning) (2.0.0)\n",
            "Requirement already satisfied: filelock in /users/jorghern70/.local/lib/python3.10/site-packages (from torch>=1.11.0->pytorch-lightning) (3.12.4)\n",
            "Requirement already satisfied: nvidia-cusparse-cu11==11.7.4.91 in /users/jorghern70/.local/lib/python3.10/site-packages (from torch>=1.11.0->pytorch-lightning) (11.7.4.91)\n",
            "Requirement already satisfied: nvidia-cuda-cupti-cu11==11.7.101 in /users/jorghern70/.local/lib/python3.10/site-packages (from torch>=1.11.0->pytorch-lightning) (11.7.101)\n",
            "Requirement already satisfied: setuptools in /usr/lib/python3/dist-packages (from nvidia-cublas-cu11==11.10.3.66->torch>=1.11.0->pytorch-lightning) (59.6.0)\n",
            "Requirement already satisfied: wheel in /usr/lib/python3/dist-packages (from nvidia-cublas-cu11==11.10.3.66->torch>=1.11.0->pytorch-lightning) (0.37.1)\n",
            "Requirement already satisfied: cmake in /users/jorghern70/.local/lib/python3.10/site-packages (from triton==2.0.0->torch>=1.11.0->pytorch-lightning) (3.27.5)\n",
            "Requirement already satisfied: lit in /users/jorghern70/.local/lib/python3.10/site-packages (from triton==2.0.0->torch>=1.11.0->pytorch-lightning) (17.0.1)\n",
            "Requirement already satisfied: attrs>=17.3.0 in /users/jorghern70/.local/lib/python3.10/site-packages (from aiohttp!=4.0.0a0,!=4.0.0a1->fsspec[http]>2021.06.0->pytorch-lightning) (23.1.0)\n",
            "Requirement already satisfied: charset-normalizer<4.0,>=2.0 in /users/jorghern70/.local/lib/python3.10/site-packages (from aiohttp!=4.0.0a0,!=4.0.0a1->fsspec[http]>2021.06.0->pytorch-lightning) (3.2.0)\n",
            "Requirement already satisfied: yarl<2.0,>=1.0 in /users/jorghern70/.local/lib/python3.10/site-packages (from aiohttp!=4.0.0a0,!=4.0.0a1->fsspec[http]>2021.06.0->pytorch-lightning) (1.9.2)\n",
            "Requirement already satisfied: multidict<7.0,>=4.5 in /users/jorghern70/.local/lib/python3.10/site-packages (from aiohttp!=4.0.0a0,!=4.0.0a1->fsspec[http]>2021.06.0->pytorch-lightning) (6.0.4)\n",
            "Requirement already satisfied: aiosignal>=1.1.2 in /users/jorghern70/.local/lib/python3.10/site-packages (from aiohttp!=4.0.0a0,!=4.0.0a1->fsspec[http]>2021.06.0->pytorch-lightning) (1.3.1)\n",
            "Requirement already satisfied: async-timeout<5.0,>=4.0.0a3 in /users/jorghern70/.local/lib/python3.10/site-packages (from aiohttp!=4.0.0a0,!=4.0.0a1->fsspec[http]>2021.06.0->pytorch-lightning) (4.0.3)\n",
            "Requirement already satisfied: frozenlist>=1.1.1 in /users/jorghern70/.local/lib/python3.10/site-packages (from aiohttp!=4.0.0a0,!=4.0.0a1->fsspec[http]>2021.06.0->pytorch-lightning) (1.4.0)\n",
            "Requirement already satisfied: MarkupSafe>=2.0 in /users/jorghern70/.local/lib/python3.10/site-packages (from jinja2->torch>=1.11.0->pytorch-lightning) (2.1.3)\n",
            "Requirement already satisfied: idna>=2.0 in /usr/lib/python3/dist-packages (from yarl<2.0,>=1.0->aiohttp!=4.0.0a0,!=4.0.0a1->fsspec[http]>2021.06.0->pytorch-lightning) (3.3)\n",
            "Defaulting to user installation because normal site-packages is not writeable\n",
            "Requirement already satisfied: torch-summary in /users/jorghern70/.local/lib/python3.10/site-packages (1.4.5)\n"
          ]
        }
      ],
      "source": [
        "!pip install pytorch-lightning\n",
        "!pip install torch-summary"
      ]
    },
    {
      "cell_type": "code",
      "execution_count": 1,
      "metadata": {
        "id": "gK84XoasrgAC"
      },
      "outputs": [],
      "source": [
        "import torch\n",
        "from torch import nn\n",
        "from torch.nn import functional as F\n",
        "from torch.utils.data import DataLoader\n",
        "from torch.utils.data import random_split\n",
        "from torchvision.datasets import FashionMNIST\n",
        "from torchvision import transforms\n",
        "from pytorch_lightning import loggers as pl_loggers\n",
        "import pytorch_lightning as pl\n",
        "import matplotlib.pyplot as plt\n",
        "import torchmetrics"
      ]
    },
    {
      "cell_type": "markdown",
      "metadata": {
        "id": "MO-y36fWCNZr"
      },
      "source": [
        "<a href=\"https://imgflip.com/i/81780o\"><img src=\"https://i.imgflip.com/81780o.jpg\" title=\"made at imgflip.com\"/></div>"
      ]
    },
    {
      "cell_type": "markdown",
      "metadata": {
        "id": "Yu-IgiEnanUm"
      },
      "source": [
        "# Pytorch-Lightning : Training made Easier\n",
        "\n",
        "Time : 4 hours\n",
        "\n",
        "In the Tutorial session, we used PyTorch to train different models for Binary Classification. In the tutorial, few things were done :\n",
        "\n",
        "\n",
        "*   We created a Training/Testing Loop and trained our models\n",
        "*   We created a Trainer Class to gather all loops to perform the Training/Testing.\n",
        "\n",
        "\n",
        "As you have seen, writing the training and testing loop can be quickly indigest. One can get easily lost.\n",
        "\n",
        "Let us introduce you Pytorch Lightning\n",
        "\n",
        "<img src=\"https://pypi-camo.global.ssl.fastly.net/8bfd70b3d9aaf6804f26582374e201ecfff288fe/68747470733a2f2f706c2d7075626c69632d646174612e73332e616d617a6f6e6177732e636f6d2f6173736574735f6c696768746e696e672f7079746f7263682d6c696768746e696e672e706e67\">\n",
        "\n",
        "\n",
        "Pytorch lightning will handle a lot of things for you. It creates a Trainer which is a Code Management trick used by many companies (Meta, Google..) in order to get much more digest code.\n",
        "\n",
        "\n",
        "More Information on : https://www.pytorchlightning.ai/\n",
        "\n",
        "Goal of this lab :\n",
        "\n",
        "* Use Pytorch Lightning for Training\n",
        "* Learn to use Pytorch-Lightning\n",
        "* Do classification on FashionMNIST, CIFAR-10\n"
      ]
    },
    {
      "cell_type": "markdown",
      "metadata": {
        "id": "H_cnXBS7boC7"
      },
      "source": [
        "# I - Classify Numbers using Lightning\n",
        "\n",
        "In this part, we will classify clothes.\n",
        "We will use the Lightning framework for code management. What's interesting about Lightning is that you can plug in your Torch modules without any modification."
      ]
    },
    {
      "cell_type": "markdown",
      "metadata": {
        "id": "2xBCfzUJcJO9"
      },
      "source": [
        "## a - LightningDataModule : FashionMNIST\n",
        "\n",
        "As you have seen in the Tutorial, you need to create your Dataset Class.\n",
        "\n",
        "As a reminder :    \n",
        " The Dataset class returns one sample of your dataset at a time. The main methods of the Dataset class are\n",
        "\n",
        "*   __getitem__ : which fetched a sample at a given index\n",
        "*   __len__ : which returns the len of the total dataset\n",
        "\n",
        "The Dataset is loaded into a DataLoader. That Dataloader is then used to **fetch and send data as batches** for your Model.\n",
        "\n",
        "You will see that using Lightning makes things clearer. LightningDataModule allows you to write cleaner Code and fit easily your data to your model.\n",
        "\n",
        "You can always, use the basic Pytorch Dataloader in a separate code."
      ]
    },
    {
      "cell_type": "markdown",
      "metadata": {
        "id": "xaDUVAFvqp5h"
      },
      "source": [
        "On the opposite of the Tutorial, the Dataset is already written by folks of Torchvision.\n",
        "* Fill in the blanks"
      ]
    },
    {
      "cell_type": "markdown",
      "metadata": {
        "id": "qrxvDv_8r9mU"
      },
      "source": [
        "### Exploratory Data Analysis : Discovering the Data\n",
        "\n",
        "First, when working on a task, we often explore the Data, to understand what it's about.\n",
        "Perform Exploratory Data Analysis on the MNIST Dataset :    \n",
        "\n",
        "1.   What type of Data do you have ? (Images, Texts, Sound..) <br>\n",
        "    PIL Images in gray scale\n",
        "\n",
        "2.   How many Data do you have ?<br>\n",
        "    60000 training samples and 10000 testing samples\n",
        "\n",
        "3.   What's in a sample (1 element of the Dataset)<br>\n",
        "    Tuple:  (PIL Image, label (Int))\n",
        "\n",
        "4.   Is the Dataset umbalanced ?<br>\n",
        "    No.The dataset is balanced: same amount of samples for all classes \n",
        "\n",
        "5.   What's the shape of any input sample ?<br>\n",
        "        Images of 28x28 pixel with just 1 channel\n",
        "\n"
      ]
    },
    {
      "cell_type": "code",
      "execution_count": 2,
      "metadata": {
        "id": "EDrwvhJAsEz_"
      },
      "outputs": [],
      "source": [
        "# Loading the Training Split of MNIST Dataset\n",
        "dataset_train  = FashionMNIST('', train=True, download=True)\n",
        "dataset_test = FashionMNIST('', train=False, download=True)"
      ]
    },
    {
      "cell_type": "code",
      "execution_count": 4,
      "metadata": {
        "colab": {
          "base_uri": "https://localhost:8080/"
        },
        "id": "8vwYTFrhtZ43",
        "outputId": "3ef66830-7bd7-4f96-9dbc-40917fbe3df9"
      },
      "outputs": [
        {
          "name": "stdout",
          "output_type": "stream",
          "text": [
            "Length of the train split :  60000\n",
            "Length of the test split :  10000\n"
          ]
        }
      ],
      "source": [
        "# TODO : What's the length of the train and test split ?\n",
        "print(\"Length of the train split : \", len(dataset_train))\n",
        "print(\"Length of the test split : \", len(dataset_test))"
      ]
    },
    {
      "cell_type": "code",
      "execution_count": 15,
      "metadata": {
        "colab": {
          "base_uri": "https://localhost:8080/"
        },
        "id": "IF-0t0ETt1Fa",
        "outputId": "d8fbc436-4601-4d53-cee5-e046526f8522"
      },
      "outputs": [
        {
          "name": "stdout",
          "output_type": "stream",
          "text": [
            "(<PIL.Image.Image image mode=L size=28x28 at 0x7F6272880280>, 3)\n"
          ]
        }
      ],
      "source": [
        "# TODO : Retrieve one sample of the Dataset.\n",
        "sample = dataset_train[3]\n",
        "\n",
        "# TODO : What is in a sample ? Print the sample to understand\n",
        "print(sample)"
      ]
    },
    {
      "cell_type": "code",
      "execution_count": 16,
      "metadata": {
        "id": "pNqZ8DmhuDU0"
      },
      "outputs": [
        {
          "data": {
            "image/png": "[encoded data removed]",
            "text/plain": [
              "<PIL.Image.Image image mode=L size=28x28 at 0x7F6272880280>"
            ]
          },
          "metadata": {},
          "output_type": "display_data"
        },
        {
          "data": {
            "text/plain": [
              "<matplotlib.image.AxesImage at 0x7f62709826e0>"
            ]
          },
          "execution_count": 16,
          "metadata": {},
          "output_type": "execute_result"
        },
        {
          "data": {
            "image/png": "[encoded data removed]",
            "text/plain": [
              "<Figure size 640x480 with 1 Axes>"
            ]
          },
          "metadata": {},
          "output_type": "display_data"
        }
      ],
      "source": [
        "# TODO : Plot the image in the sample. Does it correspond to the second element of the sample ?\n",
        "\n",
        "display(sample[0])\n",
        "\n",
        "plt.imshow(sample[0], cmap='gray')"
      ]
    },
    {
      "cell_type": "code",
      "execution_count": 8,
      "metadata": {
        "id": "QUYEXO0TuZ24"
      },
      "outputs": [
        {
          "name": "stdout",
          "output_type": "stream",
          "text": [
            "(28, 28)\n"
          ]
        }
      ],
      "source": [
        "# TODO : What's the shape of the input image.\n",
        "shape = sample[0].size\n",
        "print(shape)"
      ]
    },
    {
      "cell_type": "code",
      "execution_count": 15,
      "metadata": {},
      "outputs": [
        {
          "name": "stdout",
          "output_type": "stream",
          "text": [
            "0    6000\n",
            "1    6000\n",
            "2    6000\n",
            "3    6000\n",
            "4    6000\n",
            "5    6000\n",
            "6    6000\n",
            "7    6000\n",
            "8    6000\n",
            "9    6000\n",
            "Name: count, dtype: int64\n",
            "0    1000\n",
            "1    1000\n",
            "2    1000\n",
            "3    1000\n",
            "4    1000\n",
            "5    1000\n",
            "6    1000\n",
            "7    1000\n",
            "8    1000\n",
            "9    1000\n",
            "Name: count, dtype: int64\n"
          ]
        },
        {
          "data": {
            "text/plain": [
              "Text(0, 0.5, 'Counts')"
            ]
          },
          "execution_count": 15,
          "metadata": {},
          "output_type": "execute_result"
        },
        {
          "data": {
            "image/png": "[encoded data removed]",
            "text/plain": [
              "<Figure size 800x400 with 1 Axes>"
            ]
          },
          "metadata": {},
          "output_type": "display_data"
        },
        {
          "data": {
            "image/png": "[encoded data removed]",
            "text/plain": [
              "<Figure size 800x400 with 1 Axes>"
            ]
          },
          "metadata": {},
          "output_type": "display_data"
        }
      ],
      "source": [
        "import pandas as pd\n",
        "\n",
        "targets_trainig = pd.DataFrame(dataset_train.targets.numpy()) \n",
        "targets_test = pd.DataFrame(dataset_test.targets.numpy()) \n",
        "\n",
        "counts_train = targets_trainig.value_counts()\n",
        "counts_test = targets_test.value_counts()\n",
        "\n",
        "print(targets_trainig.value_counts())\n",
        "\n",
        "plt.figure(figsize=(8, 4))\n",
        "counts_train.plot(kind='bar')\n",
        "plt.title(\"Distribution of the Fashion MNIST Target Classes, training\")\n",
        "plt.xlabel('Categories')\n",
        "plt.ylabel('Counts')\n",
        "\n",
        "\n",
        "print(targets_test.value_counts())\n",
        "plt.figure(figsize=(8, 4))\n",
        "counts_test.plot(kind='bar')\n",
        "plt.title(\"Distribution of the Fashion MNIST Target Classes, test\")\n",
        "plt.xlabel('Categories')\n",
        "plt.ylabel('Counts')\n",
        "\n"
      ]
    },
    {
      "cell_type": "markdown",
      "metadata": {
        "id": "PBDDrYrKlr8X"
      },
      "source": [
        "### Lightning DataModule : Dataset and DataLoader Embedded\n",
        "\n",
        "In order to perform EDA, we downloaded already downloaded the Datasets.Now we will load everything into a LightningDataModule class.\n",
        "\n",
        "Have a look at : https://pytorch.org/vision/stable/datasets.html"
      ]
    },
    {
      "cell_type": "code",
      "execution_count": 39,
      "metadata": {
        "id": "HsUhr7BihqxX"
      },
      "outputs": [],
      "source": [
        "from torchvision.datasets.fakedata import FakeData\n",
        "class FMNISTDataModule(pl.LightningDataModule):\n",
        "\n",
        "    def __init__(self):\n",
        "        super().__init__()\n",
        "        self.transform = transforms.Compose([transforms.ToTensor(), transforms.Normalize((0.1307,), (0.3081,))])\n",
        "        self.data_dir = ''\n",
        "        self.batch_size_train, self.batch_size_valid, self.batch_size_test = 32,32,32\n",
        "\n",
        "    def prepare_data(self):\n",
        "        # TODO : load the train and test dataset\n",
        "        FashionMNIST(self.data_dir, train=True, download=True)\n",
        "        FashionMNIST(self.data_dir, train=False, download=True)\n",
        "\n",
        "\n",
        "    def setup(self, stage):\n",
        "        #We need to setup our module. We have a training set that we will be fitting in our model\n",
        "        #and a testing set used to test our models prediction.\n",
        "        #the stage variable corresponds to those two steps :\n",
        "        #         |fit\n",
        "        # stage = <test\n",
        "        #         |None\n",
        "\n",
        "        #First stage is 'fit' (or None)\n",
        "        if stage == \"fit\" or stage is None:\n",
        "            # We create a validation split to watch the training.\n",
        "            # TODO : Which dataset do we load for training ? \n",
        "            mnist_dataset = FashionMNIST(self.data_dir, train=False, transform=self.transform )\n",
        "            train_size = int(0.8 * len(mnist_dataset))\n",
        "            test_size = len(mnist_dataset) - train_size\n",
        "            # TODO : Load the datasets as attributes of the Module. Don't forget you validation split\n",
        "            self.mnist_train, self.mnist_valid =  torch.utils.data.random_split(mnist_dataset, [train_size, test_size])\n",
        "            \n",
        "\n",
        "        #Second stage is 'test'\n",
        "        if stage == \"test\" or stage is None:\n",
        "\n",
        "            self.mnist_test = FashionMNIST(self.data_dir, train=False, transform=self.transform)\n",
        "            # Question : What additional set can we create ? Why ?\n",
        "           #Answer: According to the documentation of the module it's possible to create prediction set for inference.\n",
        "            \n",
        "\n",
        "    def train_dataloader(self):\n",
        "        # TODO : Now create your Training DataLoader\n",
        "        return DataLoader(self.mnist_train, batch_size=self.batch_size_train, shuffle=True,)\n",
        "\n",
        "\n",
        "    def val_dataloader(self):\n",
        "        # TODO : Now create your Validation DataLoader\n",
        "        return DataLoader(self.mnist_valid, batch_size=self.batch_size_valid, shuffle=False)\n",
        "\n",
        "\n",
        "    def test_dataloader(self):\n",
        "        # TODO : Now create your Testing DataLoader\n",
        "        return DataLoader(self.mnist_test, batch_size=self.batch_size_test, shuffle=False)\n",
        "\n"
      ]
    },
    {
      "cell_type": "markdown",
      "metadata": {
        "id": "71GzlDYqj5xY"
      },
      "source": [
        "## b - LightningModule :  MNIST Classifier\n",
        "\n",
        "Design a model to perform Classification. Again, ask yourself the following questions:\n",
        "* What task is it ?<br>\n",
        "Classification of 10 different classes\n",
        "* What data do I have ?<br>\n",
        "Training images of items with their respective label  -> supervised learning\n",
        "* What learning rate should I use ?<br>\n",
        "    It can be only be set after experimentation. Typical values range from 0.1 to 1e-3    \n",
        "\n",
        "* What could be my loss ? Why ?<br>\n",
        "    Multiclass classification -> Cross Entropy loss, it provides support for multiple classes using its probability of prediction along with one-hot encoding to calculte the loss. In our case we get this probability of prediction using the softmax activation at the last layer, the one-hot encoding is managed by the lightning framework\n",
        "\n",
        "* What non-linearity should I use ?<br>\n",
        " Multiclass -> Probability of prediction for each class at the last layer: Softmax\n",
        " Intermediate layers -> Efficiency and avoidance of gradient vanishing: ReLu\n",
        "\n",
        "* How do I evaluate my model ? (TorchMetrics is your friend)<br>\n",
        "    Accuracy\n"
      ]
    },
    {
      "cell_type": "code",
      "execution_count": 16,
      "metadata": {
        "id": "XUBuWwX3iypq"
      },
      "outputs": [],
      "source": [
        "class FMNISTClassifier(pl.LightningModule):\n",
        "    def __init__(self,in_channels = 1, output_shape = 10, learning_rate = 1e-3):\n",
        "        super(FMNISTClassifier,self).__init__()\n",
        "        # what is the output_shape of your model ?\n",
        "        self.output_shape = output_shape\n",
        "        self.learning_rate = learning_rate\n",
        "        self.index_test = 0\n",
        "        self.acc = 0\n",
        "        self.save_hyperparameters()\n",
        "        # TODO : Define your model here, be careful, your model will be an instance of the class. Watch  out for the input data.\n",
        "        self.model = nn.Sequential(\n",
        "            nn.Conv2d(in_channels, 32, kernel_size=3, stride=1,padding=1),  #28x28x1 -> 28x28x32\n",
        "            nn.ReLU(),\n",
        "            nn.MaxPool2d(kernel_size=2, stride=2),                          #28x28x32 -> 14x14x32\n",
        "            nn.Conv2d(32, 64, kernel_size=3, stride=1,padding = 1),         #14x14x32 -> 14x14x64\n",
        "            nn.ReLU(),\n",
        "            nn.MaxPool2d(kernel_size=2, stride=2),                          #14x14x64 -> 7x7x64\n",
        "            nn.Flatten(),                                                    #7x7x64 -> 3136\n",
        "            nn.Linear(3136, 128),                                           #3136 -> 128\n",
        "            nn.ReLU(),\n",
        "            nn.Linear(128, output_shape),                                              #128 -> 10\n",
        "            nn.Softmax(dim=1)\n",
        "        )\n",
        "\n",
        "    def forward(self,x):\n",
        "        # TODO : What would be the forward steps of this classifier ?\n",
        "        x = self.model(x)\n",
        "        return x\n",
        "\n",
        "    def configure_optimizers(self):\n",
        "        # TODO : Choose your optimizer : https://pytorch.org/docs/stable/optim.html\n",
        "        optimizer = torch.optim.Adam(self.model.parameters(), lr= self.learning_rate)\n",
        "        return optimizer\n",
        "\n",
        "    def training_step(self, batch, batch_idx):\n",
        "        # TODO : Define your Training Step\n",
        "        # This method is pretty much similar to what your did in the Tutorial to train your model.\n",
        "        images,labels = batch     \n",
        "\n",
        "        prediction = self.forward(images)\n",
        "        loss = F.cross_entropy(prediction, labels)\n",
        "        acc = torchmetrics.functional.accuracy(prediction, labels,task='multiclass', num_classes=self.output_shape)\n",
        "  \n",
        "        # Don't remove the next line, you will understand why later\n",
        "        self.log('train_acc', acc)\n",
        "        self.log('train_loss', loss)\n",
        "        return loss\n",
        "\n",
        "\n",
        "    def validation_step(self, batch, batch_idx):\n",
        "        # TODO : Define your Validation Step\n",
        "        # What is the difference between the Training and the Validation Step ?\n",
        "        images,labels = batch\n",
        "        prediction = self.forward(images)\n",
        "        loss = F.cross_entropy(prediction, labels)\n",
        "        acc = torchmetrics.functional.accuracy(prediction, labels,task='multiclass', num_classes=self.output_shape)\n",
        " \n",
        "        # Don't remove the next line, you will understand why later\n",
        "        self.log('val_acc', acc)\n",
        "        self.log('val_loss', loss)\n",
        "\n",
        "    def test_step(self, batch, batch_idx):\n",
        "        # TODO : Define your Test Step\n",
        "        # What is the difference between the Training, Validation and Test Step ?\n",
        "        images,labels = batch\n",
        "        prediction = self.forward(images)\n",
        "        loss = F.cross_entropy(prediction, labels)\n",
        "        self.index_test += 1\n",
        "        self.acc += torchmetrics.functional.accuracy(prediction, labels,task='multiclass', num_classes=self.output_shape) # We accumulate every accuracy\n",
        "        # Don't remove the next line, you will understand why later\n",
        "        self.log('test_loss', loss)\n",
        "        self.log('test_acc', self.acc)\n",
        "\n",
        "    def on_test_epoch_start(self):\n",
        "        self.acc = 0\n",
        "        self.index_test = 0\n",
        "\n",
        "    def on_test_epoch_end(self):\n",
        "        self.acc = self.acc/self.index_test\n",
        "        self.log('Final Accuracy', self.acc)"
      ]
    },
    {
      "cell_type": "markdown",
      "metadata": {
        "id": "4TV-SLU6kWV7"
      },
      "source": [
        "## c - Did you say Train ?\n",
        "\n",
        "Let's train the model.\n",
        "\n",
        "We create our so called Trainer that will handle a lot of thing for us. Lightning trainer is full of interesting assets that helps you for your training. The lightning trainer is a much more evolved Trainer than the one in the Tutorial.\n",
        "\n",
        "To get a glance of what Lightning Trainer can give :\n",
        "https://pytorch-lightning.readthedocs.io/en/latest/common/trainer.html\n",
        "\n",
        "We also use TensorBoard"
      ]
    },
    {
      "cell_type": "code",
      "execution_count": 42,
      "metadata": {
        "id": "L9wyr4pjj5R-"
      },
      "outputs": [
        {
          "name": "stderr",
          "output_type": "stream",
          "text": [
            "GPU available: True (cuda), used: True\n",
            "TPU available: False, using: 0 TPU cores\n",
            "IPU available: False, using: 0 IPUs\n",
            "HPU available: False, using: 0 HPUs\n"
          ]
        },
        {
          "name": "stderr",
          "output_type": "stream",
          "text": [
            "LOCAL_RANK: 0 - CUDA_VISIBLE_DEVICES: [0]\n",
            "\n",
            "  | Name  | Type       | Params\n",
            "-------------------------------------\n",
            "0 | model | Sequential | 421 K \n",
            "-------------------------------------\n",
            "421 K     Trainable params\n",
            "0         Non-trainable params\n",
            "421 K     Total params\n",
            "1.687     Total estimated model params size (MB)\n"
          ]
        },
        {
          "name": "stdout",
          "output_type": "stream",
          "text": [
            "Epoch 14: 100%|██████████| 250/250 [00:06<00:00, 40.90it/s, v_num=0]        "
          ]
        },
        {
          "name": "stderr",
          "output_type": "stream",
          "text": [
            "`Trainer.fit` stopped: `max_epochs=15` reached.\n"
          ]
        },
        {
          "name": "stdout",
          "output_type": "stream",
          "text": [
            "Epoch 14: 100%|██████████| 250/250 [00:06<00:00, 40.77it/s, v_num=0]\n"
          ]
        }
      ],
      "source": [
        "import tensorboard\n",
        "tb_logger = pl.loggers.TensorBoardLogger(\"introduction to Lightning\")\n",
        "\n",
        "dm = FMNISTDataModule()\n",
        "model = FMNISTClassifier(output_shape=10)\n",
        "\n",
        "trainer = pl.Trainer(max_epochs=15,accelerator='gpu',logger=tb_logger,enable_checkpointing=True)\n",
        "trainer.fit(model, dm)"
      ]
    },
    {
      "cell_type": "markdown",
      "metadata": {
        "id": "ej56Kf9Zkefo"
      },
      "source": [
        "Oh it's training ! Happy ? Easy ? Let's test the model"
      ]
    },
    {
      "cell_type": "markdown",
      "metadata": {
        "id": "IaWmGYVTjRz5"
      },
      "source": [
        "## d - Did you say Test ?\n",
        "\n",
        "For testing, well it's pretty easy"
      ]
    },
    {
      "cell_type": "code",
      "execution_count": 43,
      "metadata": {
        "id": "idVeeYZKVvSS"
      },
      "outputs": [
        {
          "name": "stderr",
          "output_type": "stream",
          "text": [
            "LOCAL_RANK: 0 - CUDA_VISIBLE_DEVICES: [0]\n"
          ]
        },
        {
          "name": "stdout",
          "output_type": "stream",
          "text": [
            "Testing DataLoader 0:   0%|          | 0/313 [00:00<?, ?it/s]"
          ]
        },
        {
          "name": "stdout",
          "output_type": "stream",
          "text": [
            "Testing DataLoader 0: 100%|██████████| 313/313 [00:04<00:00, 67.40it/s]\n",
            "────────────────────────────────────────────────────────────────────────────────────────────────────────────────────────\n",
            "       Test metric             DataLoader 0\n",
            "────────────────────────────────────────────────────────────────────────────────────────────────────────────────────────\n",
            "     Final Accuracy         0.8983625769615173\n",
            "        test_acc            140.48719787597656\n",
            "        test_loss           1.5627446174621582\n",
            "────────────────────────────────────────────────────────────────────────────────────────────────────────────────────────\n"
          ]
        },
        {
          "data": {
            "text/plain": [
              "[{'test_loss': 1.5627446174621582,\n",
              "  'test_acc': 140.48719787597656,\n",
              "  'Final Accuracy': 0.8983625769615173}]"
            ]
          },
          "execution_count": 43,
          "metadata": {},
          "output_type": "execute_result"
        }
      ],
      "source": [
        "trainer.test(model, datamodule=dm)\n",
        "\n",
        "##Test Accuracy : 0.8983"
      ]
    },
    {
      "cell_type": "markdown",
      "metadata": {
        "id": "3NiFml0Kj88-"
      },
      "source": []
    },
    {
      "cell_type": "markdown",
      "metadata": {
        "id": "IO_fuzVPMNX5"
      },
      "source": [
        "## e - TensorBoard\n",
        "\n",
        "TensorBoard is a really useful tool. Indeed, it let's you register interesting values during training and plot them INTERACTIVELY. You might have seen a self.log line in the Validation and Training steps.\n",
        "The self.log saves the loss value into a TensorBoard readable file. We can also add images or other values using self.log\n",
        "\n",
        "In fact, look at the checkpoint created by the training. You might see 3 files :\n",
        "* Checkpoint\n",
        "* event.out....\n",
        "* hparam.yaml\n",
        "\n",
        "Let's open tensorboard to see how the training was. Tensorboard is loadable using magic_python commands.\n",
        "More info on TensorBoard : https://www.tensorflow.org/tensorboard/get_started\n",
        "\n",
        "Another Tool : Weight and Biases"
      ]
    },
    {
      "cell_type": "code",
      "execution_count": 44,
      "metadata": {
        "id": "JzLzFpFdkdoM"
      },
      "outputs": [
        {
          "data": {
            "text/plain": [
              "ERROR: Failed to launch TensorBoard (exited with 1).\n",
              "Contents of stderr:\n",
              "TensorFlow installation not found - running with reduced feature set.\n",
              "\n",
              "NOTE: Using experimental fast data loading logic. To disable, pass\n",
              "    \"--load_fast=false\" and report issues on GitHub. More details:\n",
              "    https://github.com/tensorflow/tensorboard/issues/4784\n",
              "\n",
              "I1003 22:27:41.139631 140505602049600 plugin.py:429] Monitor runs begin\n",
              "Address already in use\n",
              "Port 6006 is in use by another program. Either identify and stop that program, or start the server with a different port."
            ]
          },
          "metadata": {},
          "output_type": "display_data"
        }
      ],
      "source": [
        "%reload_ext tensorboard\n",
        "%tensorboard --logdir \"/content/introduction to Lightning/default/version_0\""
      ]
    },
    {
      "cell_type": "markdown",
      "metadata": {
        "id": "eCx4XtQojqBf"
      },
      "source": [
        "Pytorch Lightning can be used along PyTorch. We encourage you to use PyTorch Lightning during your Lab Sessions and Career as it simplifies a lot of things for you (MultiGPU, Learning Rate Decay...)\n",
        "\n",
        "<img src='https://c.tenor.com/VyApQ-jWyV0AAAAC/happy-borat.gif'>\n",
        "\n"
      ]
    },
    {
      "cell_type": "markdown",
      "metadata": {
        "id": "rq2vIzXbyXtk"
      },
      "source": [
        "# II - Classify Objects using Lightning\n",
        "\n",
        "We will now change the Dataset. This one is CIFAR-10. This part of the lab will be less restricted and more free. You now should have a sense of how to use the Lightning Framework.\n",
        "Be creative.\n"
      ]
    },
    {
      "cell_type": "markdown",
      "metadata": {
        "id": "WVi6aj84y97g"
      },
      "source": [
        "## a - Baseline : Creating your own Model\n",
        "\n",
        "Create a Simple Model and perform all steps from part 1 with the needed changes.\n",
        "\n",
        "*   **What's your final accuracy ?**\n"
      ]
    },
    {
      "cell_type": "markdown",
      "metadata": {
        "id": "LodackDWzb9k"
      },
      "source": [
        "### i - DataModule"
      ]
    },
    {
      "cell_type": "code",
      "execution_count": 3,
      "metadata": {
        "id": "La8kvImxzgaf"
      },
      "outputs": [
        {
          "name": "stdout",
          "output_type": "stream",
          "text": [
            "Files already downloaded and verified\n",
            "Files already downloaded and verified\n"
          ]
        }
      ],
      "source": [
        "from torchvision.datasets import CIFAR10\n",
        "\n",
        "transform = transforms.Compose([transforms.ToTensor(),transforms.Normalize((0.5, 0.5, 0.5), (0.5, 0.5, 0.5))])\n",
        "trainset = CIFAR10(root='./data', train=True,\n",
        "                                        download=True, transform=transform)\n",
        "testset = CIFAR10(root='./data', train=False,\n",
        "                                       download=True, transform=transform)"
      ]
    },
    {
      "cell_type": "code",
      "execution_count": 20,
      "metadata": {
        "id": "dUes-3TPFhW8"
      },
      "outputs": [
        {
          "name": "stdout",
          "output_type": "stream",
          "text": [
            "Trainset length CIFAR10:  50000\n",
            "Testset length CIFAR10:  10000\n"
          ]
        },
        {
          "data": {
            "text/plain": [
              "<matplotlib.image.AxesImage at 0x7f6270aac970>"
            ]
          },
          "execution_count": 20,
          "metadata": {},
          "output_type": "execute_result"
        },
        {
          "data": {
            "image/png": "[encoded data removed]",
            "text/plain": [
              "<Figure size 640x480 with 1 Axes>"
            ]
          },
          "metadata": {},
          "output_type": "display_data"
        }
      ],
      "source": [
        "# TODO : EDA\n",
        "\n",
        "sample = trainset[0]\n",
        "img_tensor = sample[0]\n",
        "image = (sample[0].permute(1,2,0).numpy()*255).astype('uint8')\n",
        "\n",
        "print(\"Trainset length CIFAR10: \", len(trainset))\n",
        "print(\"Testset length CIFAR10: \", len(testset))\n",
        "\n",
        "plt.imshow(image)"
      ]
    },
    {
      "cell_type": "code",
      "execution_count": 21,
      "metadata": {},
      "outputs": [
        {
          "data": {
            "text/plain": [
              "Text(0, 0.5, 'Counts')"
            ]
          },
          "execution_count": 21,
          "metadata": {},
          "output_type": "execute_result"
        },
        {
          "data": {
            "image/png": "[encoded data removed]",
            "text/plain": [
              "<Figure size 800x400 with 1 Axes>"
            ]
          },
          "metadata": {},
          "output_type": "display_data"
        },
        {
          "data": {
            "image/png": "[encoded data removed]",
            "text/plain": [
              "<Figure size 800x400 with 1 Axes>"
            ]
          },
          "metadata": {},
          "output_type": "display_data"
        }
      ],
      "source": [
        "import pandas as pd\n",
        "\n",
        "targets_trainig = pd.DataFrame(trainset.targets) \n",
        "targets_test = pd.DataFrame(testset.targets) \n",
        "\n",
        "counts_train = targets_trainig.value_counts()\n",
        "counts_test = targets_test.value_counts()\n",
        "\n",
        "plt.figure(figsize=(8, 4))\n",
        "counts_train.plot(kind='bar')\n",
        "plt.title(\"Distribution of the CIFAR10 Target Classes, training\")\n",
        "plt.xlabel('Categories')\n",
        "plt.ylabel('Counts')\n",
        "\n",
        "\n",
        "plt.figure(figsize=(8, 4))\n",
        "counts_test.plot(kind='bar')\n",
        "plt.title(\"Distribution of the CIFAR10 Target Classes, test\")\n",
        "plt.xlabel('Categories')\n",
        "plt.ylabel('Counts')"
      ]
    },
    {
      "cell_type": "code",
      "execution_count": 4,
      "metadata": {
        "id": "-hJKuGjwFHxE"
      },
      "outputs": [],
      "source": [
        "# TODO : Create your DataModule\n",
        "\n",
        "class CIFARDataModule(pl.LightningDataModule):\n",
        "\n",
        "    def __init__(self):\n",
        "        super().__init__()\n",
        "        self.transform = transforms.Compose([transforms.ToTensor(), transforms.Normalize((0.4914, 0.4822, 0.4465), (0.2470, 0.2435, 0.2616))])\n",
        "        self.data_dir = './data'\n",
        "        self.batch_size_train, self.batch_size_valid, self.batch_size_test = 32, 32, 32\n",
        "\n",
        "    def prepare_data(self):\n",
        "        CIFAR10(self.data_dir, train=True, download=True)\n",
        "        CIFAR10(self.data_dir, train=False, download=True)\n",
        "\n",
        "    def setup(self, stage):\n",
        "        if stage == \"fit\" or stage is None:\n",
        "            cifar_dataset = CIFAR10(self.data_dir, train=True, transform=self.transform)\n",
        "            train_size = int(0.8 * len(cifar_dataset))\n",
        "            test_size = len(cifar_dataset) - train_size\n",
        "          \n",
        "            self.cifar_train, self.cifar_valid = torch.utils.data.random_split(cifar_dataset, [train_size, test_size])\n",
        "\n",
        "        # Second stage is 'test' \n",
        "        if stage == \"test\" or stage is None:\n",
        "            self.cifar_test = CIFAR10(self.data_dir, train=False, transform=self.transform)\n",
        "\n",
        "    def train_dataloader(self):\n",
        "        \n",
        "        return DataLoader(self.cifar_train, batch_size=self.batch_size_train, shuffle=True)\n",
        "\n",
        "    def val_dataloader(self):\n",
        "        \n",
        "        return DataLoader(self.cifar_valid, batch_size=self.batch_size_valid, shuffle=False)\n",
        "\n",
        "    def test_dataloader(self):\n",
        "        \n",
        "        return DataLoader(self.cifar_test, batch_size=self.batch_size_test, shuffle=False)\n"
      ]
    },
    {
      "cell_type": "markdown",
      "metadata": {
        "id": "2ykxzmaMzhEr"
      },
      "source": [
        "### ii - Module"
      ]
    },
    {
      "cell_type": "code",
      "execution_count": 23,
      "metadata": {
        "id": "iZWj3Qp8zgej"
      },
      "outputs": [],
      "source": [
        "# TODO : Create your Module\n",
        "class CIFARClassifier(pl.LightningModule):\n",
        "    def __init__(self,in_channels = 3, output_shape = 10, learning_rate = 1e-3):\n",
        "        super(CIFARClassifier,self).__init__()\n",
        "        # what is the output_shape of your model ?\n",
        "        self.output_shape = output_shape\n",
        "        self.learning_rate = learning_rate\n",
        "        self.index_test = 0\n",
        "        self.acc = 0\n",
        "        self.save_hyperparameters()\n",
        "        # TODO : Define your model here, be careful, your model will be an instance of the class. Watch  out for the input data.\n",
        "        self.model = nn.Sequential(\n",
        "            nn.Conv2d(in_channels, 32, kernel_size=3, stride=1,padding=1),  #32x32x3 -> 32x32x32\n",
        "            nn.ReLU(),\n",
        "            nn.MaxPool2d(kernel_size=2, stride=2),                          #32x32x32 -> 16x16x32\n",
        "            nn.Conv2d(32, 64, kernel_size=3, stride=1,padding = 1),         #16x16x32 -> 16x16x64\n",
        "            nn.ReLU(),\n",
        "            nn.MaxPool2d(kernel_size=2, stride=2),                          #16x16x64 -> 8x8x64\n",
        "            nn.Flatten(),                                                    #8x8x64 -> 4096\n",
        "            nn.Linear(4096, 128),                                           #4096 -> 128\n",
        "            nn.ReLU(),\n",
        "            nn.Linear(128, output_shape),                                              #128 -> 10\n",
        "            nn.Softmax(dim=1)\n",
        "        )\n",
        "\n",
        "    def forward(self,x):\n",
        "        x = self.model(x)\n",
        "        return x\n",
        "\n",
        "    def configure_optimizers(self):\n",
        "        optimizer = torch.optim.Adam(self.model.parameters(), lr= self.learning_rate)\n",
        "        return optimizer\n",
        "\n",
        "    def training_step(self, batch, batch_idx):\n",
        "        images,labels = batch     \n",
        "        prediction = self.forward(images)\n",
        "        loss = F.cross_entropy(prediction, labels)\n",
        "        acc = torchmetrics.functional.accuracy(prediction, labels,task='multiclass', num_classes=self.output_shape)\n",
        "        self.log('train_acc', acc)\n",
        "        self.log('train_loss', loss)\n",
        "        return loss\n",
        "\n",
        "    def validation_step(self, batch, batch_idx):\n",
        "        images,labels = batch\n",
        "        prediction = self.forward(images)\n",
        "        loss = F.cross_entropy(prediction, labels)\n",
        "        acc = torchmetrics.functional.accuracy(prediction, labels,task='multiclass', num_classes=self.output_shape)\n",
        "        self.log('val_acc', acc)\n",
        "        self.log('val_loss', loss)\n",
        "        \n",
        "    def test_step(self, batch, batch_idx):\n",
        "        images,labels = batch\n",
        "        prediction = self.forward(images)\n",
        "        loss = F.cross_entropy(prediction, labels)\n",
        "        self.index_test += 1\n",
        "        self.acc += torchmetrics.functional.accuracy(prediction, labels,task='multiclass', num_classes=self.output_shape)\n",
        "        self.log('test_loss', loss)\n",
        "        self.log('test_acc', self.acc)\n",
        "\n",
        "    def test_epoch_start(self):\n",
        "        self.acc = 0\n",
        "        self.index_test=0\n",
        "            \n",
        "    def on_test_epoch_end(self):\n",
        "        self.acc = self.acc/self.index_test            \n",
        "        self.log('Final Accuracy', self.acc)\n",
        "\n"
      ]
    },
    {
      "cell_type": "markdown",
      "metadata": {
        "id": "SjDUQJBhzloB"
      },
      "source": [
        "### iii - Train"
      ]
    },
    {
      "cell_type": "code",
      "execution_count": 24,
      "metadata": {
        "id": "i1-7v8j9zoAJ"
      },
      "outputs": [
        {
          "name": "stderr",
          "output_type": "stream",
          "text": [
            "GPU available: True (cuda), used: True\n",
            "TPU available: False, using: 0 TPU cores\n",
            "IPU available: False, using: 0 IPUs\n",
            "HPU available: False, using: 0 HPUs\n"
          ]
        },
        {
          "name": "stdout",
          "output_type": "stream",
          "text": [
            "Files already downloaded and verified\n",
            "Files already downloaded and verified\n"
          ]
        },
        {
          "name": "stderr",
          "output_type": "stream",
          "text": [
            "LOCAL_RANK: 0 - CUDA_VISIBLE_DEVICES: [0]\n",
            "\n",
            "  | Name  | Type       | Params\n",
            "-------------------------------------\n",
            "0 | model | Sequential | 545 K \n",
            "-------------------------------------\n",
            "545 K     Trainable params\n",
            "0         Non-trainable params\n",
            "545 K     Total params\n",
            "2.180     Total estimated model params size (MB)\n"
          ]
        },
        {
          "name": "stdout",
          "output_type": "stream",
          "text": [
            "Sanity Checking DataLoader 0:   0%|          | 0/2 [00:00<?, ?it/s]"
          ]
        },
        {
          "name": "stderr",
          "output_type": "stream",
          "text": [
            "/users/jorghern70/.local/lib/python3.10/site-packages/pytorch_lightning/trainer/connectors/data_connector.py:442: PossibleUserWarning: The dataloader, val_dataloader, does not have many workers which may be a bottleneck. Consider increasing the value of the `num_workers` argument` (try 16 which is the number of cpus on this machine) in the `DataLoader` init to improve performance.\n",
            "  rank_zero_warn(\n"
          ]
        },
        {
          "name": "stdout",
          "output_type": "stream",
          "text": [
            "                                                                           "
          ]
        },
        {
          "name": "stderr",
          "output_type": "stream",
          "text": [
            "/users/jorghern70/.local/lib/python3.10/site-packages/pytorch_lightning/trainer/connectors/data_connector.py:442: PossibleUserWarning: The dataloader, train_dataloader, does not have many workers which may be a bottleneck. Consider increasing the value of the `num_workers` argument` (try 16 which is the number of cpus on this machine) in the `DataLoader` init to improve performance.\n",
            "  rank_zero_warn(\n"
          ]
        },
        {
          "name": "stdout",
          "output_type": "stream",
          "text": [
            "Epoch 14: 100%|██████████| 1250/1250 [00:33<00:00, 37.70it/s, v_num=0]"
          ]
        },
        {
          "name": "stderr",
          "output_type": "stream",
          "text": [
            "`Trainer.fit` stopped: `max_epochs=15` reached.\n"
          ]
        },
        {
          "name": "stdout",
          "output_type": "stream",
          "text": [
            "Epoch 14: 100%|██████████| 1250/1250 [00:33<00:00, 37.68it/s, v_num=0]\n"
          ]
        }
      ],
      "source": [
        "# TODO : Train\n",
        "import tensorboard\n",
        "tb_logger_cf = pl.loggers.TensorBoardLogger(\"CIFAR10_Training\")\n",
        "\n",
        "dm_cf = CIFARDataModule()\n",
        "model_cf = CIFARClassifier(output_shape=10)\n",
        "\n",
        "trainer_cf = pl.Trainer(max_epochs=15,accelerator='gpu',logger=tb_logger_cf,enable_checkpointing=True)\n",
        "trainer_cf.fit(model_cf, dm_cf)"
      ]
    },
    {
      "cell_type": "markdown",
      "metadata": {
        "id": "I8RmPe1ozoxq"
      },
      "source": [
        "### iv - Test"
      ]
    },
    {
      "cell_type": "code",
      "execution_count": 25,
      "metadata": {
        "id": "zXDiuQOMzoxr"
      },
      "outputs": [
        {
          "name": "stdout",
          "output_type": "stream",
          "text": [
            "Files already downloaded and verified\n",
            "Files already downloaded and verified\n"
          ]
        },
        {
          "name": "stderr",
          "output_type": "stream",
          "text": [
            "LOCAL_RANK: 0 - CUDA_VISIBLE_DEVICES: [0]\n",
            "/users/jorghern70/.local/lib/python3.10/site-packages/pytorch_lightning/trainer/connectors/data_connector.py:442: PossibleUserWarning: The dataloader, test_dataloader, does not have many workers which may be a bottleneck. Consider increasing the value of the `num_workers` argument` (try 16 which is the number of cpus on this machine) in the `DataLoader` init to improve performance.\n",
            "  rank_zero_warn(\n"
          ]
        },
        {
          "name": "stdout",
          "output_type": "stream",
          "text": [
            "Testing DataLoader 0: 100%|██████████| 313/313 [00:04<00:00, 73.67it/s]\n",
            "────────────────────────────────────────────────────────────────────────────────────────────────────────────────────────\n",
            "       Test metric             DataLoader 0\n",
            "────────────────────────────────────────────────────────────────────────────────────────────────────────────────────────\n",
            "     Final Accuracy         0.6743210554122925\n",
            "        test_acc            106.28199768066406\n",
            "        test_loss           1.7848179340362549\n",
            "────────────────────────────────────────────────────────────────────────────────────────────────────────────────────────\n"
          ]
        },
        {
          "data": {
            "text/plain": [
              "[{'test_loss': 1.7848179340362549,\n",
              "  'test_acc': 106.28199768066406,\n",
              "  'Final Accuracy': 0.6743210554122925}]"
            ]
          },
          "execution_count": 25,
          "metadata": {},
          "output_type": "execute_result"
        }
      ],
      "source": [
        "# TODO : Test\n",
        "\n",
        "trainer_cf.test(model_cf, datamodule=dm_cf)\n",
        "\n",
        "#Final test accuracy: 0.6743"
      ]
    },
    {
      "cell_type": "markdown",
      "metadata": {
        "id": "Ls7EK0Az2YFr"
      },
      "source": [
        "\n",
        "**Does your model perform well on the CIFAR Dataset ?**\n",
        "\n",
        "No\n",
        "\n",
        "\n"
      ]
    },
    {
      "cell_type": "markdown",
      "metadata": {
        "id": "hfcW6jcizB1I"
      },
      "source": [
        "## b - The OG Model : Finetuning a Model\n",
        "\n",
        "If your model performed well on the CIFAR-10 Dataset, congrats. But let's achieve better results. Often, for industrial works, we pretrain a model on a large dataset (ImageNet or internal Dataset), and then fine-tune the model on a Dataset.\n",
        "\n",
        "* **What's the intuition behind fine-tuning ?**\n",
        "\n",
        "\n",
        "input -> [pretrained network]->head(10 outputs) ->prediction "
      ]
    },
    {
      "cell_type": "markdown",
      "metadata": {
        "id": "0Qxg-fff7Ofw"
      },
      "source": [
        "### i - Importing a Pretrained Model\n",
        "\n",
        "We will import a ConvNext model. Why ? It's said to be a really good backbone that competes with the Transformer models. Let's load the model.\n",
        "We are going to use TorchSummary to print what the size of the inputs and outputs are.\n",
        "\n",
        "* What is the difference between a trainable and a non trainable parameter ?\n",
        "    \n",
        "* How many parameters does the model have ?\n",
        "    50,223,688"
      ]
    },
    {
      "cell_type": "code",
      "execution_count": 5,
      "metadata": {
        "id": "DIgUs9Fd7FW7"
      },
      "outputs": [
        {
          "name": "stdout",
          "output_type": "stream",
          "text": [
            "======================================================================\n",
            "Layer (type:depth-idx)                        Param #\n",
            "======================================================================\n",
            "├─Sequential: 1-1                             --\n",
            "|    └─Conv2dNormActivation: 2-1              --\n",
            "|    |    └─Conv2d: 3-1                       4,704\n",
            "|    |    └─LayerNorm2d: 3-2                  192\n",
            "|    └─Sequential: 2-2                        --\n",
            "|    |    └─CNBlock: 3-3                      79,296\n",
            "|    |    └─CNBlock: 3-4                      79,296\n",
            "|    |    └─CNBlock: 3-5                      79,296\n",
            "|    └─Sequential: 2-3                        --\n",
            "|    |    └─LayerNorm2d: 3-6                  192\n",
            "|    |    └─Conv2d: 3-7                       73,920\n",
            "|    └─Sequential: 2-4                        --\n",
            "|    |    └─CNBlock: 3-8                      306,048\n",
            "|    |    └─CNBlock: 3-9                      306,048\n",
            "|    |    └─CNBlock: 3-10                     306,048\n",
            "|    └─Sequential: 2-5                        --\n",
            "|    |    └─LayerNorm2d: 3-11                 384\n",
            "|    |    └─Conv2d: 3-12                      295,296\n",
            "|    └─Sequential: 2-6                        --\n",
            "|    |    └─CNBlock: 3-13                     1,201,920\n",
            "|    |    └─CNBlock: 3-14                     1,201,920\n",
            "|    |    └─CNBlock: 3-15                     1,201,920\n",
            "|    |    └─CNBlock: 3-16                     1,201,920\n",
            "|    |    └─CNBlock: 3-17                     1,201,920\n",
            "|    |    └─CNBlock: 3-18                     1,201,920\n",
            "|    |    └─CNBlock: 3-19                     1,201,920\n",
            "|    |    └─CNBlock: 3-20                     1,201,920\n",
            "|    |    └─CNBlock: 3-21                     1,201,920\n",
            "|    |    └─CNBlock: 3-22                     1,201,920\n",
            "|    |    └─CNBlock: 3-23                     1,201,920\n",
            "|    |    └─CNBlock: 3-24                     1,201,920\n",
            "|    |    └─CNBlock: 3-25                     1,201,920\n",
            "|    |    └─CNBlock: 3-26                     1,201,920\n",
            "|    |    └─CNBlock: 3-27                     1,201,920\n",
            "|    |    └─CNBlock: 3-28                     1,201,920\n",
            "|    |    └─CNBlock: 3-29                     1,201,920\n",
            "|    |    └─CNBlock: 3-30                     1,201,920\n",
            "|    |    └─CNBlock: 3-31                     1,201,920\n",
            "|    |    └─CNBlock: 3-32                     1,201,920\n",
            "|    |    └─CNBlock: 3-33                     1,201,920\n",
            "|    |    └─CNBlock: 3-34                     1,201,920\n",
            "|    |    └─CNBlock: 3-35                     1,201,920\n",
            "|    |    └─CNBlock: 3-36                     1,201,920\n",
            "|    |    └─CNBlock: 3-37                     1,201,920\n",
            "|    |    └─CNBlock: 3-38                     1,201,920\n",
            "|    |    └─CNBlock: 3-39                     1,201,920\n",
            "|    └─Sequential: 2-7                        --\n",
            "|    |    └─LayerNorm2d: 3-40                 768\n",
            "|    |    └─Conv2d: 3-41                      1,180,416\n",
            "|    └─Sequential: 2-8                        --\n",
            "|    |    └─CNBlock: 3-42                     4,763,136\n",
            "|    |    └─CNBlock: 3-43                     4,763,136\n",
            "|    |    └─CNBlock: 3-44                     4,763,136\n",
            "├─AdaptiveAvgPool2d: 1-2                      --\n",
            "├─Sequential: 1-3                             --\n",
            "|    └─LayerNorm2d: 2-9                       1,536\n",
            "|    └─Flatten: 2-10                          --\n",
            "|    └─Linear: 2-11                           769,000\n",
            "======================================================================\n",
            "Total params: 50,223,688\n",
            "Trainable params: 50,223,688\n",
            "Non-trainable params: 0\n",
            "======================================================================\n"
          ]
        },
        {
          "data": {
            "text/plain": [
              "======================================================================\n",
              "Layer (type:depth-idx)                        Param #\n",
              "======================================================================\n",
              "├─Sequential: 1-1                             --\n",
              "|    └─Conv2dNormActivation: 2-1              --\n",
              "|    |    └─Conv2d: 3-1                       4,704\n",
              "|    |    └─LayerNorm2d: 3-2                  192\n",
              "|    └─Sequential: 2-2                        --\n",
              "|    |    └─CNBlock: 3-3                      79,296\n",
              "|    |    └─CNBlock: 3-4                      79,296\n",
              "|    |    └─CNBlock: 3-5                      79,296\n",
              "|    └─Sequential: 2-3                        --\n",
              "|    |    └─LayerNorm2d: 3-6                  192\n",
              "|    |    └─Conv2d: 3-7                       73,920\n",
              "|    └─Sequential: 2-4                        --\n",
              "|    |    └─CNBlock: 3-8                      306,048\n",
              "|    |    └─CNBlock: 3-9                      306,048\n",
              "|    |    └─CNBlock: 3-10                     306,048\n",
              "|    └─Sequential: 2-5                        --\n",
              "|    |    └─LayerNorm2d: 3-11                 384\n",
              "|    |    └─Conv2d: 3-12                      295,296\n",
              "|    └─Sequential: 2-6                        --\n",
              "|    |    └─CNBlock: 3-13                     1,201,920\n",
              "|    |    └─CNBlock: 3-14                     1,201,920\n",
              "|    |    └─CNBlock: 3-15                     1,201,920\n",
              "|    |    └─CNBlock: 3-16                     1,201,920\n",
              "|    |    └─CNBlock: 3-17                     1,201,920\n",
              "|    |    └─CNBlock: 3-18                     1,201,920\n",
              "|    |    └─CNBlock: 3-19                     1,201,920\n",
              "|    |    └─CNBlock: 3-20                     1,201,920\n",
              "|    |    └─CNBlock: 3-21                     1,201,920\n",
              "|    |    └─CNBlock: 3-22                     1,201,920\n",
              "|    |    └─CNBlock: 3-23                     1,201,920\n",
              "|    |    └─CNBlock: 3-24                     1,201,920\n",
              "|    |    └─CNBlock: 3-25                     1,201,920\n",
              "|    |    └─CNBlock: 3-26                     1,201,920\n",
              "|    |    └─CNBlock: 3-27                     1,201,920\n",
              "|    |    └─CNBlock: 3-28                     1,201,920\n",
              "|    |    └─CNBlock: 3-29                     1,201,920\n",
              "|    |    └─CNBlock: 3-30                     1,201,920\n",
              "|    |    └─CNBlock: 3-31                     1,201,920\n",
              "|    |    └─CNBlock: 3-32                     1,201,920\n",
              "|    |    └─CNBlock: 3-33                     1,201,920\n",
              "|    |    └─CNBlock: 3-34                     1,201,920\n",
              "|    |    └─CNBlock: 3-35                     1,201,920\n",
              "|    |    └─CNBlock: 3-36                     1,201,920\n",
              "|    |    └─CNBlock: 3-37                     1,201,920\n",
              "|    |    └─CNBlock: 3-38                     1,201,920\n",
              "|    |    └─CNBlock: 3-39                     1,201,920\n",
              "|    └─Sequential: 2-7                        --\n",
              "|    |    └─LayerNorm2d: 3-40                 768\n",
              "|    |    └─Conv2d: 3-41                      1,180,416\n",
              "|    └─Sequential: 2-8                        --\n",
              "|    |    └─CNBlock: 3-42                     4,763,136\n",
              "|    |    └─CNBlock: 3-43                     4,763,136\n",
              "|    |    └─CNBlock: 3-44                     4,763,136\n",
              "├─AdaptiveAvgPool2d: 1-2                      --\n",
              "├─Sequential: 1-3                             --\n",
              "|    └─LayerNorm2d: 2-9                       1,536\n",
              "|    └─Flatten: 2-10                          --\n",
              "|    └─Linear: 2-11                           769,000\n",
              "======================================================================\n",
              "Total params: 50,223,688\n",
              "Trainable params: 50,223,688\n",
              "Non-trainable params: 0\n",
              "======================================================================"
            ]
          },
          "execution_count": 5,
          "metadata": {},
          "output_type": "execute_result"
        }
      ],
      "source": [
        "\n",
        "import torchvision\n",
        "\n",
        "model = torchvision.models.convnext_small(weights='DEFAULT')\n",
        "# TODO : Using torchsummary, print a summary of the model\n",
        "from torchsummary import summary\n",
        "summary(model)\n"
      ]
    },
    {
      "cell_type": "code",
      "execution_count": 8,
      "metadata": {
        "id": "x29gjtvd94Jr"
      },
      "outputs": [
        {
          "name": "stdout",
          "output_type": "stream",
          "text": [
            "===============================================================================================\n",
            "Layer (type:depth-idx)                        Output Shape              Param #\n",
            "===============================================================================================\n",
            "├─Sequential: 1-1                             [-1, 768, 1, 1]           --\n",
            "|    └─Conv2dNormActivation: 2-1              [-1, 96, 8, 8]            --\n",
            "|    |    └─Conv2d: 3-1                       [-1, 96, 8, 8]            4,704\n",
            "|    |    └─LayerNorm2d: 3-2                  [-1, 96, 8, 8]            192\n",
            "|    └─Sequential: 2-2                        [-1, 96, 8, 8]            --\n",
            "|    |    └─CNBlock: 3-3                      [-1, 96, 8, 8]            79,296\n",
            "|    |    └─CNBlock: 3-4                      [-1, 96, 8, 8]            79,296\n",
            "|    |    └─CNBlock: 3-5                      [-1, 96, 8, 8]            79,296\n",
            "|    └─Sequential: 2-3                        [-1, 192, 4, 4]           --\n",
            "|    |    └─LayerNorm2d: 3-6                  [-1, 96, 8, 8]            192\n",
            "|    |    └─Conv2d: 3-7                       [-1, 192, 4, 4]           73,920\n",
            "|    └─Sequential: 2-4                        [-1, 192, 4, 4]           --\n",
            "|    |    └─CNBlock: 3-8                      [-1, 192, 4, 4]           306,048\n",
            "|    |    └─CNBlock: 3-9                      [-1, 192, 4, 4]           306,048\n",
            "|    |    └─CNBlock: 3-10                     [-1, 192, 4, 4]           306,048\n",
            "|    └─Sequential: 2-5                        [-1, 384, 2, 2]           --\n",
            "|    |    └─LayerNorm2d: 3-11                 [-1, 192, 4, 4]           384\n",
            "|    |    └─Conv2d: 3-12                      [-1, 384, 2, 2]           295,296\n",
            "|    └─Sequential: 2-6                        [-1, 384, 2, 2]           --\n",
            "|    |    └─CNBlock: 3-13                     [-1, 384, 2, 2]           1,201,920\n",
            "|    |    └─CNBlock: 3-14                     [-1, 384, 2, 2]           1,201,920\n",
            "|    |    └─CNBlock: 3-15                     [-1, 384, 2, 2]           1,201,920\n",
            "|    |    └─CNBlock: 3-16                     [-1, 384, 2, 2]           1,201,920\n",
            "|    |    └─CNBlock: 3-17                     [-1, 384, 2, 2]           1,201,920\n",
            "|    |    └─CNBlock: 3-18                     [-1, 384, 2, 2]           1,201,920\n",
            "|    |    └─CNBlock: 3-19                     [-1, 384, 2, 2]           1,201,920\n",
            "|    |    └─CNBlock: 3-20                     [-1, 384, 2, 2]           1,201,920\n",
            "|    |    └─CNBlock: 3-21                     [-1, 384, 2, 2]           1,201,920\n",
            "|    |    └─CNBlock: 3-22                     [-1, 384, 2, 2]           1,201,920\n",
            "|    |    └─CNBlock: 3-23                     [-1, 384, 2, 2]           1,201,920\n",
            "|    |    └─CNBlock: 3-24                     [-1, 384, 2, 2]           1,201,920\n",
            "|    |    └─CNBlock: 3-25                     [-1, 384, 2, 2]           1,201,920\n",
            "|    |    └─CNBlock: 3-26                     [-1, 384, 2, 2]           1,201,920\n",
            "|    |    └─CNBlock: 3-27                     [-1, 384, 2, 2]           1,201,920\n",
            "|    |    └─CNBlock: 3-28                     [-1, 384, 2, 2]           1,201,920\n",
            "|    |    └─CNBlock: 3-29                     [-1, 384, 2, 2]           1,201,920\n",
            "|    |    └─CNBlock: 3-30                     [-1, 384, 2, 2]           1,201,920\n",
            "|    |    └─CNBlock: 3-31                     [-1, 384, 2, 2]           1,201,920\n",
            "|    |    └─CNBlock: 3-32                     [-1, 384, 2, 2]           1,201,920\n",
            "|    |    └─CNBlock: 3-33                     [-1, 384, 2, 2]           1,201,920\n",
            "|    |    └─CNBlock: 3-34                     [-1, 384, 2, 2]           1,201,920\n",
            "|    |    └─CNBlock: 3-35                     [-1, 384, 2, 2]           1,201,920\n",
            "|    |    └─CNBlock: 3-36                     [-1, 384, 2, 2]           1,201,920\n",
            "|    |    └─CNBlock: 3-37                     [-1, 384, 2, 2]           1,201,920\n",
            "|    |    └─CNBlock: 3-38                     [-1, 384, 2, 2]           1,201,920\n",
            "|    |    └─CNBlock: 3-39                     [-1, 384, 2, 2]           1,201,920\n",
            "|    └─Sequential: 2-7                        [-1, 768, 1, 1]           --\n",
            "|    |    └─LayerNorm2d: 3-40                 [-1, 384, 2, 2]           768\n",
            "|    |    └─Conv2d: 3-41                      [-1, 768, 1, 1]           1,180,416\n",
            "|    └─Sequential: 2-8                        [-1, 768, 1, 1]           --\n",
            "|    |    └─CNBlock: 3-42                     [-1, 768, 1, 1]           4,763,136\n",
            "|    |    └─CNBlock: 3-43                     [-1, 768, 1, 1]           4,763,136\n",
            "|    |    └─CNBlock: 3-44                     [-1, 768, 1, 1]           4,763,136\n",
            "├─AdaptiveAvgPool2d: 1-2                      [-1, 768, 1, 1]           --\n",
            "├─Sequential: 1-3                             [-1, 1000]                --\n",
            "|    └─LayerNorm2d: 2-9                       [-1, 768, 1, 1]           1,536\n",
            "|    └─Flatten: 2-10                          [-1, 768]                 --\n",
            "|    └─Linear: 2-11                           [-1, 1000]                769,000\n",
            "===============================================================================================\n",
            "Total params: 50,223,688\n",
            "Trainable params: 50,223,688\n",
            "Non-trainable params: 0\n",
            "Total mult-adds (M): 199.64\n",
            "===============================================================================================\n",
            "Input size (MB): 0.01\n",
            "Forward/backward pass size (MB): 0.23\n",
            "Params size (MB): 191.59\n",
            "Estimated Total Size (MB): 191.83\n",
            "===============================================================================================\n",
            "ConvNeXt(\n",
            "  (features): Sequential(\n",
            "    (0): Conv2dNormActivation(\n",
            "      (0): Conv2d(3, 96, kernel_size=(4, 4), stride=(4, 4))\n",
            "      (1): LayerNorm2d((96,), eps=1e-06, elementwise_affine=True)\n",
            "    )\n",
            "    (1): Sequential(\n",
            "      (0): CNBlock(\n",
            "        (block): Sequential(\n",
            "          (0): Conv2d(96, 96, kernel_size=(7, 7), stride=(1, 1), padding=(3, 3), groups=96)\n",
            "          (1): Permute()\n",
            "          (2): LayerNorm((96,), eps=1e-06, elementwise_affine=True)\n",
            "          (3): Linear(in_features=96, out_features=384, bias=True)\n",
            "          (4): GELU(approximate='none')\n",
            "          (5): Linear(in_features=384, out_features=96, bias=True)\n",
            "          (6): Permute()\n",
            "        )\n",
            "        (stochastic_depth): StochasticDepth(p=0.0, mode=row)\n",
            "      )\n",
            "      (1): CNBlock(\n",
            "        (block): Sequential(\n",
            "          (0): Conv2d(96, 96, kernel_size=(7, 7), stride=(1, 1), padding=(3, 3), groups=96)\n",
            "          (1): Permute()\n",
            "          (2): LayerNorm((96,), eps=1e-06, elementwise_affine=True)\n",
            "          (3): Linear(in_features=96, out_features=384, bias=True)\n",
            "          (4): GELU(approximate='none')\n",
            "          (5): Linear(in_features=384, out_features=96, bias=True)\n",
            "          (6): Permute()\n",
            "        )\n",
            "        (stochastic_depth): StochasticDepth(p=0.011428571428571429, mode=row)\n",
            "      )\n",
            "      (2): CNBlock(\n",
            "        (block): Sequential(\n",
            "          (0): Conv2d(96, 96, kernel_size=(7, 7), stride=(1, 1), padding=(3, 3), groups=96)\n",
            "          (1): Permute()\n",
            "          (2): LayerNorm((96,), eps=1e-06, elementwise_affine=True)\n",
            "          (3): Linear(in_features=96, out_features=384, bias=True)\n",
            "          (4): GELU(approximate='none')\n",
            "          (5): Linear(in_features=384, out_features=96, bias=True)\n",
            "          (6): Permute()\n",
            "        )\n",
            "        (stochastic_depth): StochasticDepth(p=0.022857142857142857, mode=row)\n",
            "      )\n",
            "    )\n",
            "    (2): Sequential(\n",
            "      (0): LayerNorm2d((96,), eps=1e-06, elementwise_affine=True)\n",
            "      (1): Conv2d(96, 192, kernel_size=(2, 2), stride=(2, 2))\n",
            "    )\n",
            "    (3): Sequential(\n",
            "      (0): CNBlock(\n",
            "        (block): Sequential(\n",
            "          (0): Conv2d(192, 192, kernel_size=(7, 7), stride=(1, 1), padding=(3, 3), groups=192)\n",
            "          (1): Permute()\n",
            "          (2): LayerNorm((192,), eps=1e-06, elementwise_affine=True)\n",
            "          (3): Linear(in_features=192, out_features=768, bias=True)\n",
            "          (4): GELU(approximate='none')\n",
            "          (5): Linear(in_features=768, out_features=192, bias=True)\n",
            "          (6): Permute()\n",
            "        )\n",
            "        (stochastic_depth): StochasticDepth(p=0.03428571428571429, mode=row)\n",
            "      )\n",
            "      (1): CNBlock(\n",
            "        (block): Sequential(\n",
            "          (0): Conv2d(192, 192, kernel_size=(7, 7), stride=(1, 1), padding=(3, 3), groups=192)\n",
            "          (1): Permute()\n",
            "          (2): LayerNorm((192,), eps=1e-06, elementwise_affine=True)\n",
            "          (3): Linear(in_features=192, out_features=768, bias=True)\n",
            "          (4): GELU(approximate='none')\n",
            "          (5): Linear(in_features=768, out_features=192, bias=True)\n",
            "          (6): Permute()\n",
            "        )\n",
            "        (stochastic_depth): StochasticDepth(p=0.045714285714285714, mode=row)\n",
            "      )\n",
            "      (2): CNBlock(\n",
            "        (block): Sequential(\n",
            "          (0): Conv2d(192, 192, kernel_size=(7, 7), stride=(1, 1), padding=(3, 3), groups=192)\n",
            "          (1): Permute()\n",
            "          (2): LayerNorm((192,), eps=1e-06, elementwise_affine=True)\n",
            "          (3): Linear(in_features=192, out_features=768, bias=True)\n",
            "          (4): GELU(approximate='none')\n",
            "          (5): Linear(in_features=768, out_features=192, bias=True)\n",
            "          (6): Permute()\n",
            "        )\n",
            "        (stochastic_depth): StochasticDepth(p=0.05714285714285714, mode=row)\n",
            "      )\n",
            "    )\n",
            "    (4): Sequential(\n",
            "      (0): LayerNorm2d((192,), eps=1e-06, elementwise_affine=True)\n",
            "      (1): Conv2d(192, 384, kernel_size=(2, 2), stride=(2, 2))\n",
            "    )\n",
            "    (5): Sequential(\n",
            "      (0): CNBlock(\n",
            "        (block): Sequential(\n",
            "          (0): Conv2d(384, 384, kernel_size=(7, 7), stride=(1, 1), padding=(3, 3), groups=384)\n",
            "          (1): Permute()\n",
            "          (2): LayerNorm((384,), eps=1e-06, elementwise_affine=True)\n",
            "          (3): Linear(in_features=384, out_features=1536, bias=True)\n",
            "          (4): GELU(approximate='none')\n",
            "          (5): Linear(in_features=1536, out_features=384, bias=True)\n",
            "          (6): Permute()\n",
            "        )\n",
            "        (stochastic_depth): StochasticDepth(p=0.06857142857142857, mode=row)\n",
            "      )\n",
            "      (1): CNBlock(\n",
            "        (block): Sequential(\n",
            "          (0): Conv2d(384, 384, kernel_size=(7, 7), stride=(1, 1), padding=(3, 3), groups=384)\n",
            "          (1): Permute()\n",
            "          (2): LayerNorm((384,), eps=1e-06, elementwise_affine=True)\n",
            "          (3): Linear(in_features=384, out_features=1536, bias=True)\n",
            "          (4): GELU(approximate='none')\n",
            "          (5): Linear(in_features=1536, out_features=384, bias=True)\n",
            "          (6): Permute()\n",
            "        )\n",
            "        (stochastic_depth): StochasticDepth(p=0.08, mode=row)\n",
            "      )\n",
            "      (2): CNBlock(\n",
            "        (block): Sequential(\n",
            "          (0): Conv2d(384, 384, kernel_size=(7, 7), stride=(1, 1), padding=(3, 3), groups=384)\n",
            "          (1): Permute()\n",
            "          (2): LayerNorm((384,), eps=1e-06, elementwise_affine=True)\n",
            "          (3): Linear(in_features=384, out_features=1536, bias=True)\n",
            "          (4): GELU(approximate='none')\n",
            "          (5): Linear(in_features=1536, out_features=384, bias=True)\n",
            "          (6): Permute()\n",
            "        )\n",
            "        (stochastic_depth): StochasticDepth(p=0.09142857142857143, mode=row)\n",
            "      )\n",
            "      (3): CNBlock(\n",
            "        (block): Sequential(\n",
            "          (0): Conv2d(384, 384, kernel_size=(7, 7), stride=(1, 1), padding=(3, 3), groups=384)\n",
            "          (1): Permute()\n",
            "          (2): LayerNorm((384,), eps=1e-06, elementwise_affine=True)\n",
            "          (3): Linear(in_features=384, out_features=1536, bias=True)\n",
            "          (4): GELU(approximate='none')\n",
            "          (5): Linear(in_features=1536, out_features=384, bias=True)\n",
            "          (6): Permute()\n",
            "        )\n",
            "        (stochastic_depth): StochasticDepth(p=0.10285714285714286, mode=row)\n",
            "      )\n",
            "      (4): CNBlock(\n",
            "        (block): Sequential(\n",
            "          (0): Conv2d(384, 384, kernel_size=(7, 7), stride=(1, 1), padding=(3, 3), groups=384)\n",
            "          (1): Permute()\n",
            "          (2): LayerNorm((384,), eps=1e-06, elementwise_affine=True)\n",
            "          (3): Linear(in_features=384, out_features=1536, bias=True)\n",
            "          (4): GELU(approximate='none')\n",
            "          (5): Linear(in_features=1536, out_features=384, bias=True)\n",
            "          (6): Permute()\n",
            "        )\n",
            "        (stochastic_depth): StochasticDepth(p=0.11428571428571428, mode=row)\n",
            "      )\n",
            "      (5): CNBlock(\n",
            "        (block): Sequential(\n",
            "          (0): Conv2d(384, 384, kernel_size=(7, 7), stride=(1, 1), padding=(3, 3), groups=384)\n",
            "          (1): Permute()\n",
            "          (2): LayerNorm((384,), eps=1e-06, elementwise_affine=True)\n",
            "          (3): Linear(in_features=384, out_features=1536, bias=True)\n",
            "          (4): GELU(approximate='none')\n",
            "          (5): Linear(in_features=1536, out_features=384, bias=True)\n",
            "          (6): Permute()\n",
            "        )\n",
            "        (stochastic_depth): StochasticDepth(p=0.12571428571428572, mode=row)\n",
            "      )\n",
            "      (6): CNBlock(\n",
            "        (block): Sequential(\n",
            "          (0): Conv2d(384, 384, kernel_size=(7, 7), stride=(1, 1), padding=(3, 3), groups=384)\n",
            "          (1): Permute()\n",
            "          (2): LayerNorm((384,), eps=1e-06, elementwise_affine=True)\n",
            "          (3): Linear(in_features=384, out_features=1536, bias=True)\n",
            "          (4): GELU(approximate='none')\n",
            "          (5): Linear(in_features=1536, out_features=384, bias=True)\n",
            "          (6): Permute()\n",
            "        )\n",
            "        (stochastic_depth): StochasticDepth(p=0.13714285714285715, mode=row)\n",
            "      )\n",
            "      (7): CNBlock(\n",
            "        (block): Sequential(\n",
            "          (0): Conv2d(384, 384, kernel_size=(7, 7), stride=(1, 1), padding=(3, 3), groups=384)\n",
            "          (1): Permute()\n",
            "          (2): LayerNorm((384,), eps=1e-06, elementwise_affine=True)\n",
            "          (3): Linear(in_features=384, out_features=1536, bias=True)\n",
            "          (4): GELU(approximate='none')\n",
            "          (5): Linear(in_features=1536, out_features=384, bias=True)\n",
            "          (6): Permute()\n",
            "        )\n",
            "        (stochastic_depth): StochasticDepth(p=0.14857142857142858, mode=row)\n",
            "      )\n",
            "      (8): CNBlock(\n",
            "        (block): Sequential(\n",
            "          (0): Conv2d(384, 384, kernel_size=(7, 7), stride=(1, 1), padding=(3, 3), groups=384)\n",
            "          (1): Permute()\n",
            "          (2): LayerNorm((384,), eps=1e-06, elementwise_affine=True)\n",
            "          (3): Linear(in_features=384, out_features=1536, bias=True)\n",
            "          (4): GELU(approximate='none')\n",
            "          (5): Linear(in_features=1536, out_features=384, bias=True)\n",
            "          (6): Permute()\n",
            "        )\n",
            "        (stochastic_depth): StochasticDepth(p=0.16, mode=row)\n",
            "      )\n",
            "      (9): CNBlock(\n",
            "        (block): Sequential(\n",
            "          (0): Conv2d(384, 384, kernel_size=(7, 7), stride=(1, 1), padding=(3, 3), groups=384)\n",
            "          (1): Permute()\n",
            "          (2): LayerNorm((384,), eps=1e-06, elementwise_affine=True)\n",
            "          (3): Linear(in_features=384, out_features=1536, bias=True)\n",
            "          (4): GELU(approximate='none')\n",
            "          (5): Linear(in_features=1536, out_features=384, bias=True)\n",
            "          (6): Permute()\n",
            "        )\n",
            "        (stochastic_depth): StochasticDepth(p=0.17142857142857143, mode=row)\n",
            "      )\n",
            "      (10): CNBlock(\n",
            "        (block): Sequential(\n",
            "          (0): Conv2d(384, 384, kernel_size=(7, 7), stride=(1, 1), padding=(3, 3), groups=384)\n",
            "          (1): Permute()\n",
            "          (2): LayerNorm((384,), eps=1e-06, elementwise_affine=True)\n",
            "          (3): Linear(in_features=384, out_features=1536, bias=True)\n",
            "          (4): GELU(approximate='none')\n",
            "          (5): Linear(in_features=1536, out_features=384, bias=True)\n",
            "          (6): Permute()\n",
            "        )\n",
            "        (stochastic_depth): StochasticDepth(p=0.18285714285714286, mode=row)\n",
            "      )\n",
            "      (11): CNBlock(\n",
            "        (block): Sequential(\n",
            "          (0): Conv2d(384, 384, kernel_size=(7, 7), stride=(1, 1), padding=(3, 3), groups=384)\n",
            "          (1): Permute()\n",
            "          (2): LayerNorm((384,), eps=1e-06, elementwise_affine=True)\n",
            "          (3): Linear(in_features=384, out_features=1536, bias=True)\n",
            "          (4): GELU(approximate='none')\n",
            "          (5): Linear(in_features=1536, out_features=384, bias=True)\n",
            "          (6): Permute()\n",
            "        )\n",
            "        (stochastic_depth): StochasticDepth(p=0.1942857142857143, mode=row)\n",
            "      )\n",
            "      (12): CNBlock(\n",
            "        (block): Sequential(\n",
            "          (0): Conv2d(384, 384, kernel_size=(7, 7), stride=(1, 1), padding=(3, 3), groups=384)\n",
            "          (1): Permute()\n",
            "          (2): LayerNorm((384,), eps=1e-06, elementwise_affine=True)\n",
            "          (3): Linear(in_features=384, out_features=1536, bias=True)\n",
            "          (4): GELU(approximate='none')\n",
            "          (5): Linear(in_features=1536, out_features=384, bias=True)\n",
            "          (6): Permute()\n",
            "        )\n",
            "        (stochastic_depth): StochasticDepth(p=0.2057142857142857, mode=row)\n",
            "      )\n",
            "      (13): CNBlock(\n",
            "        (block): Sequential(\n",
            "          (0): Conv2d(384, 384, kernel_size=(7, 7), stride=(1, 1), padding=(3, 3), groups=384)\n",
            "          (1): Permute()\n",
            "          (2): LayerNorm((384,), eps=1e-06, elementwise_affine=True)\n",
            "          (3): Linear(in_features=384, out_features=1536, bias=True)\n",
            "          (4): GELU(approximate='none')\n",
            "          (5): Linear(in_features=1536, out_features=384, bias=True)\n",
            "          (6): Permute()\n",
            "        )\n",
            "        (stochastic_depth): StochasticDepth(p=0.21714285714285717, mode=row)\n",
            "      )\n",
            "      (14): CNBlock(\n",
            "        (block): Sequential(\n",
            "          (0): Conv2d(384, 384, kernel_size=(7, 7), stride=(1, 1), padding=(3, 3), groups=384)\n",
            "          (1): Permute()\n",
            "          (2): LayerNorm((384,), eps=1e-06, elementwise_affine=True)\n",
            "          (3): Linear(in_features=384, out_features=1536, bias=True)\n",
            "          (4): GELU(approximate='none')\n",
            "          (5): Linear(in_features=1536, out_features=384, bias=True)\n",
            "          (6): Permute()\n",
            "        )\n",
            "        (stochastic_depth): StochasticDepth(p=0.22857142857142856, mode=row)\n",
            "      )\n",
            "      (15): CNBlock(\n",
            "        (block): Sequential(\n",
            "          (0): Conv2d(384, 384, kernel_size=(7, 7), stride=(1, 1), padding=(3, 3), groups=384)\n",
            "          (1): Permute()\n",
            "          (2): LayerNorm((384,), eps=1e-06, elementwise_affine=True)\n",
            "          (3): Linear(in_features=384, out_features=1536, bias=True)\n",
            "          (4): GELU(approximate='none')\n",
            "          (5): Linear(in_features=1536, out_features=384, bias=True)\n",
            "          (6): Permute()\n",
            "        )\n",
            "        (stochastic_depth): StochasticDepth(p=0.24000000000000002, mode=row)\n",
            "      )\n",
            "      (16): CNBlock(\n",
            "        (block): Sequential(\n",
            "          (0): Conv2d(384, 384, kernel_size=(7, 7), stride=(1, 1), padding=(3, 3), groups=384)\n",
            "          (1): Permute()\n",
            "          (2): LayerNorm((384,), eps=1e-06, elementwise_affine=True)\n",
            "          (3): Linear(in_features=384, out_features=1536, bias=True)\n",
            "          (4): GELU(approximate='none')\n",
            "          (5): Linear(in_features=1536, out_features=384, bias=True)\n",
            "          (6): Permute()\n",
            "        )\n",
            "        (stochastic_depth): StochasticDepth(p=0.25142857142857145, mode=row)\n",
            "      )\n",
            "      (17): CNBlock(\n",
            "        (block): Sequential(\n",
            "          (0): Conv2d(384, 384, kernel_size=(7, 7), stride=(1, 1), padding=(3, 3), groups=384)\n",
            "          (1): Permute()\n",
            "          (2): LayerNorm((384,), eps=1e-06, elementwise_affine=True)\n",
            "          (3): Linear(in_features=384, out_features=1536, bias=True)\n",
            "          (4): GELU(approximate='none')\n",
            "          (5): Linear(in_features=1536, out_features=384, bias=True)\n",
            "          (6): Permute()\n",
            "        )\n",
            "        (stochastic_depth): StochasticDepth(p=0.2628571428571429, mode=row)\n",
            "      )\n",
            "      (18): CNBlock(\n",
            "        (block): Sequential(\n",
            "          (0): Conv2d(384, 384, kernel_size=(7, 7), stride=(1, 1), padding=(3, 3), groups=384)\n",
            "          (1): Permute()\n",
            "          (2): LayerNorm((384,), eps=1e-06, elementwise_affine=True)\n",
            "          (3): Linear(in_features=384, out_features=1536, bias=True)\n",
            "          (4): GELU(approximate='none')\n",
            "          (5): Linear(in_features=1536, out_features=384, bias=True)\n",
            "          (6): Permute()\n",
            "        )\n",
            "        (stochastic_depth): StochasticDepth(p=0.2742857142857143, mode=row)\n",
            "      )\n",
            "      (19): CNBlock(\n",
            "        (block): Sequential(\n",
            "          (0): Conv2d(384, 384, kernel_size=(7, 7), stride=(1, 1), padding=(3, 3), groups=384)\n",
            "          (1): Permute()\n",
            "          (2): LayerNorm((384,), eps=1e-06, elementwise_affine=True)\n",
            "          (3): Linear(in_features=384, out_features=1536, bias=True)\n",
            "          (4): GELU(approximate='none')\n",
            "          (5): Linear(in_features=1536, out_features=384, bias=True)\n",
            "          (6): Permute()\n",
            "        )\n",
            "        (stochastic_depth): StochasticDepth(p=0.2857142857142857, mode=row)\n",
            "      )\n",
            "      (20): CNBlock(\n",
            "        (block): Sequential(\n",
            "          (0): Conv2d(384, 384, kernel_size=(7, 7), stride=(1, 1), padding=(3, 3), groups=384)\n",
            "          (1): Permute()\n",
            "          (2): LayerNorm((384,), eps=1e-06, elementwise_affine=True)\n",
            "          (3): Linear(in_features=384, out_features=1536, bias=True)\n",
            "          (4): GELU(approximate='none')\n",
            "          (5): Linear(in_features=1536, out_features=384, bias=True)\n",
            "          (6): Permute()\n",
            "        )\n",
            "        (stochastic_depth): StochasticDepth(p=0.29714285714285715, mode=row)\n",
            "      )\n",
            "      (21): CNBlock(\n",
            "        (block): Sequential(\n",
            "          (0): Conv2d(384, 384, kernel_size=(7, 7), stride=(1, 1), padding=(3, 3), groups=384)\n",
            "          (1): Permute()\n",
            "          (2): LayerNorm((384,), eps=1e-06, elementwise_affine=True)\n",
            "          (3): Linear(in_features=384, out_features=1536, bias=True)\n",
            "          (4): GELU(approximate='none')\n",
            "          (5): Linear(in_features=1536, out_features=384, bias=True)\n",
            "          (6): Permute()\n",
            "        )\n",
            "        (stochastic_depth): StochasticDepth(p=0.3085714285714286, mode=row)\n",
            "      )\n",
            "      (22): CNBlock(\n",
            "        (block): Sequential(\n",
            "          (0): Conv2d(384, 384, kernel_size=(7, 7), stride=(1, 1), padding=(3, 3), groups=384)\n",
            "          (1): Permute()\n",
            "          (2): LayerNorm((384,), eps=1e-06, elementwise_affine=True)\n",
            "          (3): Linear(in_features=384, out_features=1536, bias=True)\n",
            "          (4): GELU(approximate='none')\n",
            "          (5): Linear(in_features=1536, out_features=384, bias=True)\n",
            "          (6): Permute()\n",
            "        )\n",
            "        (stochastic_depth): StochasticDepth(p=0.32, mode=row)\n",
            "      )\n",
            "      (23): CNBlock(\n",
            "        (block): Sequential(\n",
            "          (0): Conv2d(384, 384, kernel_size=(7, 7), stride=(1, 1), padding=(3, 3), groups=384)\n",
            "          (1): Permute()\n",
            "          (2): LayerNorm((384,), eps=1e-06, elementwise_affine=True)\n",
            "          (3): Linear(in_features=384, out_features=1536, bias=True)\n",
            "          (4): GELU(approximate='none')\n",
            "          (5): Linear(in_features=1536, out_features=384, bias=True)\n",
            "          (6): Permute()\n",
            "        )\n",
            "        (stochastic_depth): StochasticDepth(p=0.33142857142857146, mode=row)\n",
            "      )\n",
            "      (24): CNBlock(\n",
            "        (block): Sequential(\n",
            "          (0): Conv2d(384, 384, kernel_size=(7, 7), stride=(1, 1), padding=(3, 3), groups=384)\n",
            "          (1): Permute()\n",
            "          (2): LayerNorm((384,), eps=1e-06, elementwise_affine=True)\n",
            "          (3): Linear(in_features=384, out_features=1536, bias=True)\n",
            "          (4): GELU(approximate='none')\n",
            "          (5): Linear(in_features=1536, out_features=384, bias=True)\n",
            "          (6): Permute()\n",
            "        )\n",
            "        (stochastic_depth): StochasticDepth(p=0.34285714285714286, mode=row)\n",
            "      )\n",
            "      (25): CNBlock(\n",
            "        (block): Sequential(\n",
            "          (0): Conv2d(384, 384, kernel_size=(7, 7), stride=(1, 1), padding=(3, 3), groups=384)\n",
            "          (1): Permute()\n",
            "          (2): LayerNorm((384,), eps=1e-06, elementwise_affine=True)\n",
            "          (3): Linear(in_features=384, out_features=1536, bias=True)\n",
            "          (4): GELU(approximate='none')\n",
            "          (5): Linear(in_features=1536, out_features=384, bias=True)\n",
            "          (6): Permute()\n",
            "        )\n",
            "        (stochastic_depth): StochasticDepth(p=0.3542857142857143, mode=row)\n",
            "      )\n",
            "      (26): CNBlock(\n",
            "        (block): Sequential(\n",
            "          (0): Conv2d(384, 384, kernel_size=(7, 7), stride=(1, 1), padding=(3, 3), groups=384)\n",
            "          (1): Permute()\n",
            "          (2): LayerNorm((384,), eps=1e-06, elementwise_affine=True)\n",
            "          (3): Linear(in_features=384, out_features=1536, bias=True)\n",
            "          (4): GELU(approximate='none')\n",
            "          (5): Linear(in_features=1536, out_features=384, bias=True)\n",
            "          (6): Permute()\n",
            "        )\n",
            "        (stochastic_depth): StochasticDepth(p=0.3657142857142857, mode=row)\n",
            "      )\n",
            "    )\n",
            "    (6): Sequential(\n",
            "      (0): LayerNorm2d((384,), eps=1e-06, elementwise_affine=True)\n",
            "      (1): Conv2d(384, 768, kernel_size=(2, 2), stride=(2, 2))\n",
            "    )\n",
            "    (7): Sequential(\n",
            "      (0): CNBlock(\n",
            "        (block): Sequential(\n",
            "          (0): Conv2d(768, 768, kernel_size=(7, 7), stride=(1, 1), padding=(3, 3), groups=768)\n",
            "          (1): Permute()\n",
            "          (2): LayerNorm((768,), eps=1e-06, elementwise_affine=True)\n",
            "          (3): Linear(in_features=768, out_features=3072, bias=True)\n",
            "          (4): GELU(approximate='none')\n",
            "          (5): Linear(in_features=3072, out_features=768, bias=True)\n",
            "          (6): Permute()\n",
            "        )\n",
            "        (stochastic_depth): StochasticDepth(p=0.37714285714285717, mode=row)\n",
            "      )\n",
            "      (1): CNBlock(\n",
            "        (block): Sequential(\n",
            "          (0): Conv2d(768, 768, kernel_size=(7, 7), stride=(1, 1), padding=(3, 3), groups=768)\n",
            "          (1): Permute()\n",
            "          (2): LayerNorm((768,), eps=1e-06, elementwise_affine=True)\n",
            "          (3): Linear(in_features=768, out_features=3072, bias=True)\n",
            "          (4): GELU(approximate='none')\n",
            "          (5): Linear(in_features=3072, out_features=768, bias=True)\n",
            "          (6): Permute()\n",
            "        )\n",
            "        (stochastic_depth): StochasticDepth(p=0.3885714285714286, mode=row)\n",
            "      )\n",
            "      (2): CNBlock(\n",
            "        (block): Sequential(\n",
            "          (0): Conv2d(768, 768, kernel_size=(7, 7), stride=(1, 1), padding=(3, 3), groups=768)\n",
            "          (1): Permute()\n",
            "          (2): LayerNorm((768,), eps=1e-06, elementwise_affine=True)\n",
            "          (3): Linear(in_features=768, out_features=3072, bias=True)\n",
            "          (4): GELU(approximate='none')\n",
            "          (5): Linear(in_features=3072, out_features=768, bias=True)\n",
            "          (6): Permute()\n",
            "        )\n",
            "        (stochastic_depth): StochasticDepth(p=0.4, mode=row)\n",
            "      )\n",
            "    )\n",
            "  )\n",
            "  (avgpool): AdaptiveAvgPool2d(output_size=1)\n",
            "  (classifier): Sequential(\n",
            "    (0): LayerNorm2d((768,), eps=1e-06, elementwise_affine=True)\n",
            "    (1): Flatten(start_dim=1, end_dim=-1)\n",
            "    (2): Linear(in_features=768, out_features=1000, bias=True)\n",
            "  )\n",
            ")\n"
          ]
        }
      ],
      "source": [
        "# TODO : Using torchsummary, send an image of the same size as a sample of CIFAR-10\n",
        "#summary(model(image) ) # ... = input shape as a tuple (C,H,W)\n",
        "from torchsummary import summary\n",
        "import torch\n",
        "\n",
        "# create a sample image with the same dimensions as CIFAR-10 images\n",
        "image = torch.randn(1, 3, 32, 32)\n",
        "\n",
        "# pass the image through the model using torchsummary\n",
        "summary(model, image)\n",
        "\n",
        "print(model)"
      ]
    },
    {
      "cell_type": "markdown",
      "metadata": {
        "id": "vIpoh9qP-Nll"
      },
      "source": [
        "* **What is the output size of the model ?** <br>\n",
        "(batch size, 1000)\n",
        "* **What will be the issue of using this model as is to perform classification on the CIFAR-10 Dataset ?**<br>\n",
        "\n",
        "we'll get 1000 different outputs for the prediction of  1000 classes but our dataset has just 10 classes. Also the pre-trained network was trained on IMAGENET-1K which possibly it's not well-suited for the classes of the CIFAR-10. Training adjusted to the new dataset is needed\n"
      ]
    },
    {
      "cell_type": "code",
      "execution_count": 9,
      "metadata": {
        "id": "3XBym9hsB2Z1"
      },
      "outputs": [
        {
          "name": "stdout",
          "output_type": "stream",
          "text": [
            "===============================================================================================\n",
            "Layer (type:depth-idx)                        Output Shape              Param #\n",
            "===============================================================================================\n",
            "├─Sequential: 1-1                             [-1, 768, 1, 1]           --\n",
            "|    └─Conv2dNormActivation: 2-1              [-1, 96, 8, 8]            --\n",
            "|    |    └─Conv2d: 3-1                       [-1, 96, 8, 8]            4,704\n",
            "|    |    └─LayerNorm2d: 3-2                  [-1, 96, 8, 8]            192\n",
            "|    └─Sequential: 2-2                        [-1, 96, 8, 8]            --\n",
            "|    |    └─CNBlock: 3-3                      [-1, 96, 8, 8]            79,296\n",
            "|    |    └─CNBlock: 3-4                      [-1, 96, 8, 8]            79,296\n",
            "|    |    └─CNBlock: 3-5                      [-1, 96, 8, 8]            79,296\n",
            "|    └─Sequential: 2-3                        [-1, 192, 4, 4]           --\n",
            "|    |    └─LayerNorm2d: 3-6                  [-1, 96, 8, 8]            192\n",
            "|    |    └─Conv2d: 3-7                       [-1, 192, 4, 4]           73,920\n",
            "|    └─Sequential: 2-4                        [-1, 192, 4, 4]           --\n",
            "|    |    └─CNBlock: 3-8                      [-1, 192, 4, 4]           306,048\n",
            "|    |    └─CNBlock: 3-9                      [-1, 192, 4, 4]           306,048\n",
            "|    |    └─CNBlock: 3-10                     [-1, 192, 4, 4]           306,048\n",
            "|    └─Sequential: 2-5                        [-1, 384, 2, 2]           --\n",
            "|    |    └─LayerNorm2d: 3-11                 [-1, 192, 4, 4]           384\n",
            "|    |    └─Conv2d: 3-12                      [-1, 384, 2, 2]           295,296\n",
            "|    └─Sequential: 2-6                        [-1, 384, 2, 2]           --\n",
            "|    |    └─CNBlock: 3-13                     [-1, 384, 2, 2]           1,201,920\n",
            "|    |    └─CNBlock: 3-14                     [-1, 384, 2, 2]           1,201,920\n",
            "|    |    └─CNBlock: 3-15                     [-1, 384, 2, 2]           1,201,920\n",
            "|    |    └─CNBlock: 3-16                     [-1, 384, 2, 2]           1,201,920\n",
            "|    |    └─CNBlock: 3-17                     [-1, 384, 2, 2]           1,201,920\n",
            "|    |    └─CNBlock: 3-18                     [-1, 384, 2, 2]           1,201,920\n",
            "|    |    └─CNBlock: 3-19                     [-1, 384, 2, 2]           1,201,920\n",
            "|    |    └─CNBlock: 3-20                     [-1, 384, 2, 2]           1,201,920\n",
            "|    |    └─CNBlock: 3-21                     [-1, 384, 2, 2]           1,201,920\n",
            "|    |    └─CNBlock: 3-22                     [-1, 384, 2, 2]           1,201,920\n",
            "|    |    └─CNBlock: 3-23                     [-1, 384, 2, 2]           1,201,920\n",
            "|    |    └─CNBlock: 3-24                     [-1, 384, 2, 2]           1,201,920\n",
            "|    |    └─CNBlock: 3-25                     [-1, 384, 2, 2]           1,201,920\n",
            "|    |    └─CNBlock: 3-26                     [-1, 384, 2, 2]           1,201,920\n",
            "|    |    └─CNBlock: 3-27                     [-1, 384, 2, 2]           1,201,920\n",
            "|    |    └─CNBlock: 3-28                     [-1, 384, 2, 2]           1,201,920\n",
            "|    |    └─CNBlock: 3-29                     [-1, 384, 2, 2]           1,201,920\n",
            "|    |    └─CNBlock: 3-30                     [-1, 384, 2, 2]           1,201,920\n",
            "|    |    └─CNBlock: 3-31                     [-1, 384, 2, 2]           1,201,920\n",
            "|    |    └─CNBlock: 3-32                     [-1, 384, 2, 2]           1,201,920\n",
            "|    |    └─CNBlock: 3-33                     [-1, 384, 2, 2]           1,201,920\n",
            "|    |    └─CNBlock: 3-34                     [-1, 384, 2, 2]           1,201,920\n",
            "|    |    └─CNBlock: 3-35                     [-1, 384, 2, 2]           1,201,920\n",
            "|    |    └─CNBlock: 3-36                     [-1, 384, 2, 2]           1,201,920\n",
            "|    |    └─CNBlock: 3-37                     [-1, 384, 2, 2]           1,201,920\n",
            "|    |    └─CNBlock: 3-38                     [-1, 384, 2, 2]           1,201,920\n",
            "|    |    └─CNBlock: 3-39                     [-1, 384, 2, 2]           1,201,920\n",
            "|    └─Sequential: 2-7                        [-1, 768, 1, 1]           --\n",
            "|    |    └─LayerNorm2d: 3-40                 [-1, 384, 2, 2]           768\n",
            "|    |    └─Conv2d: 3-41                      [-1, 768, 1, 1]           1,180,416\n",
            "|    └─Sequential: 2-8                        [-1, 768, 1, 1]           --\n",
            "|    |    └─CNBlock: 3-42                     [-1, 768, 1, 1]           4,763,136\n",
            "|    |    └─CNBlock: 3-43                     [-1, 768, 1, 1]           4,763,136\n",
            "|    |    └─CNBlock: 3-44                     [-1, 768, 1, 1]           4,763,136\n",
            "├─AdaptiveAvgPool2d: 1-2                      [-1, 768, 1, 1]           --\n",
            "├─Sequential: 1-3                             [-1, 10]                  --\n",
            "|    └─LayerNorm2d: 2-9                       [-1, 768, 1, 1]           1,536\n",
            "|    └─Flatten: 2-10                          [-1, 768]                 --\n",
            "|    └─Linear: 2-11                           [-1, 10]                  7,690\n",
            "===============================================================================================\n",
            "Total params: 49,462,378\n",
            "Trainable params: 49,462,378\n",
            "Non-trainable params: 0\n",
            "Total mult-adds (M): 198.11\n",
            "===============================================================================================\n",
            "Input size (MB): 0.01\n",
            "Forward/backward pass size (MB): 0.22\n",
            "Params size (MB): 188.68\n",
            "Estimated Total Size (MB): 188.92\n",
            "===============================================================================================\n"
          ]
        },
        {
          "data": {
            "text/plain": [
              "===============================================================================================\n",
              "Layer (type:depth-idx)                        Output Shape              Param #\n",
              "===============================================================================================\n",
              "├─Sequential: 1-1                             [-1, 768, 1, 1]           --\n",
              "|    └─Conv2dNormActivation: 2-1              [-1, 96, 8, 8]            --\n",
              "|    |    └─Conv2d: 3-1                       [-1, 96, 8, 8]            4,704\n",
              "|    |    └─LayerNorm2d: 3-2                  [-1, 96, 8, 8]            192\n",
              "|    └─Sequential: 2-2                        [-1, 96, 8, 8]            --\n",
              "|    |    └─CNBlock: 3-3                      [-1, 96, 8, 8]            79,296\n",
              "|    |    └─CNBlock: 3-4                      [-1, 96, 8, 8]            79,296\n",
              "|    |    └─CNBlock: 3-5                      [-1, 96, 8, 8]            79,296\n",
              "|    └─Sequential: 2-3                        [-1, 192, 4, 4]           --\n",
              "|    |    └─LayerNorm2d: 3-6                  [-1, 96, 8, 8]            192\n",
              "|    |    └─Conv2d: 3-7                       [-1, 192, 4, 4]           73,920\n",
              "|    └─Sequential: 2-4                        [-1, 192, 4, 4]           --\n",
              "|    |    └─CNBlock: 3-8                      [-1, 192, 4, 4]           306,048\n",
              "|    |    └─CNBlock: 3-9                      [-1, 192, 4, 4]           306,048\n",
              "|    |    └─CNBlock: 3-10                     [-1, 192, 4, 4]           306,048\n",
              "|    └─Sequential: 2-5                        [-1, 384, 2, 2]           --\n",
              "|    |    └─LayerNorm2d: 3-11                 [-1, 192, 4, 4]           384\n",
              "|    |    └─Conv2d: 3-12                      [-1, 384, 2, 2]           295,296\n",
              "|    └─Sequential: 2-6                        [-1, 384, 2, 2]           --\n",
              "|    |    └─CNBlock: 3-13                     [-1, 384, 2, 2]           1,201,920\n",
              "|    |    └─CNBlock: 3-14                     [-1, 384, 2, 2]           1,201,920\n",
              "|    |    └─CNBlock: 3-15                     [-1, 384, 2, 2]           1,201,920\n",
              "|    |    └─CNBlock: 3-16                     [-1, 384, 2, 2]           1,201,920\n",
              "|    |    └─CNBlock: 3-17                     [-1, 384, 2, 2]           1,201,920\n",
              "|    |    └─CNBlock: 3-18                     [-1, 384, 2, 2]           1,201,920\n",
              "|    |    └─CNBlock: 3-19                     [-1, 384, 2, 2]           1,201,920\n",
              "|    |    └─CNBlock: 3-20                     [-1, 384, 2, 2]           1,201,920\n",
              "|    |    └─CNBlock: 3-21                     [-1, 384, 2, 2]           1,201,920\n",
              "|    |    └─CNBlock: 3-22                     [-1, 384, 2, 2]           1,201,920\n",
              "|    |    └─CNBlock: 3-23                     [-1, 384, 2, 2]           1,201,920\n",
              "|    |    └─CNBlock: 3-24                     [-1, 384, 2, 2]           1,201,920\n",
              "|    |    └─CNBlock: 3-25                     [-1, 384, 2, 2]           1,201,920\n",
              "|    |    └─CNBlock: 3-26                     [-1, 384, 2, 2]           1,201,920\n",
              "|    |    └─CNBlock: 3-27                     [-1, 384, 2, 2]           1,201,920\n",
              "|    |    └─CNBlock: 3-28                     [-1, 384, 2, 2]           1,201,920\n",
              "|    |    └─CNBlock: 3-29                     [-1, 384, 2, 2]           1,201,920\n",
              "|    |    └─CNBlock: 3-30                     [-1, 384, 2, 2]           1,201,920\n",
              "|    |    └─CNBlock: 3-31                     [-1, 384, 2, 2]           1,201,920\n",
              "|    |    └─CNBlock: 3-32                     [-1, 384, 2, 2]           1,201,920\n",
              "|    |    └─CNBlock: 3-33                     [-1, 384, 2, 2]           1,201,920\n",
              "|    |    └─CNBlock: 3-34                     [-1, 384, 2, 2]           1,201,920\n",
              "|    |    └─CNBlock: 3-35                     [-1, 384, 2, 2]           1,201,920\n",
              "|    |    └─CNBlock: 3-36                     [-1, 384, 2, 2]           1,201,920\n",
              "|    |    └─CNBlock: 3-37                     [-1, 384, 2, 2]           1,201,920\n",
              "|    |    └─CNBlock: 3-38                     [-1, 384, 2, 2]           1,201,920\n",
              "|    |    └─CNBlock: 3-39                     [-1, 384, 2, 2]           1,201,920\n",
              "|    └─Sequential: 2-7                        [-1, 768, 1, 1]           --\n",
              "|    |    └─LayerNorm2d: 3-40                 [-1, 384, 2, 2]           768\n",
              "|    |    └─Conv2d: 3-41                      [-1, 768, 1, 1]           1,180,416\n",
              "|    └─Sequential: 2-8                        [-1, 768, 1, 1]           --\n",
              "|    |    └─CNBlock: 3-42                     [-1, 768, 1, 1]           4,763,136\n",
              "|    |    └─CNBlock: 3-43                     [-1, 768, 1, 1]           4,763,136\n",
              "|    |    └─CNBlock: 3-44                     [-1, 768, 1, 1]           4,763,136\n",
              "├─AdaptiveAvgPool2d: 1-2                      [-1, 768, 1, 1]           --\n",
              "├─Sequential: 1-3                             [-1, 10]                  --\n",
              "|    └─LayerNorm2d: 2-9                       [-1, 768, 1, 1]           1,536\n",
              "|    └─Flatten: 2-10                          [-1, 768]                 --\n",
              "|    └─Linear: 2-11                           [-1, 10]                  7,690\n",
              "===============================================================================================\n",
              "Total params: 49,462,378\n",
              "Trainable params: 49,462,378\n",
              "Non-trainable params: 0\n",
              "Total mult-adds (M): 198.11\n",
              "===============================================================================================\n",
              "Input size (MB): 0.01\n",
              "Forward/backward pass size (MB): 0.22\n",
              "Params size (MB): 188.68\n",
              "Estimated Total Size (MB): 188.92\n",
              "==============================================================================================="
            ]
          },
          "execution_count": 9,
          "metadata": {},
          "output_type": "execute_result"
        }
      ],
      "source": [
        "# TODO : According to your answer to the previous questions, perform the changes.\n",
        "# You can access each layers using model.name_of_layer\n",
        "new_model = torchvision.models.convnext_small(weights='DEFAULT').eval()\n",
        "new_model.classifier[-1] = nn.Linear(768, 10)\n",
        "\n",
        "#print(new_model)\n",
        "image = torch.randn(1, 3, 32, 32)\n",
        "summary(new_model, image)"
      ]
    },
    {
      "cell_type": "markdown",
      "metadata": {
        "id": "3aUiAPtd51rP"
      },
      "source": [
        "### iii - Module\n",
        "\n"
      ]
    },
    {
      "cell_type": "code",
      "execution_count": 6,
      "metadata": {
        "id": "W0zUy7CJ51rP"
      },
      "outputs": [],
      "source": [
        "# TODO : Create your Module\n",
        "\n",
        "# Careful : How should your learning rate be ? low to avoid lossing the already learned weigths of the pretrained network-> Typical values range from 1e-3 to 1e-4\n",
        "\n",
        "class CIFARClassifier_tuned(pl.LightningModule):\n",
        "    def __init__(self,in_channels = 3, output_shape = 10, learning_rate = 1e-5):\n",
        "        super(CIFARClassifier_tuned,self).__init__()\n",
        "        # what is the output_shape of your model ?\n",
        "        self.output_shape = output_shape\n",
        "        self.learning_rate = learning_rate\n",
        "        self.index_test = 0\n",
        "        self.acc = 0\n",
        "        self.save_hyperparameters()\n",
        "        # TODO : Define your model here, be careful, your model will be an instance of the class. Watch  out for the input data.\n",
        "        self.backbone = torchvision.models.convnext_small(weights='DEFAULT').eval()\n",
        "        self.backbone.classifier[-1] = nn.Linear(768, 10)\n",
        "        \n",
        "        self.model = nn.Sequential(\n",
        "            self.backbone,\n",
        "            nn.Softmax(dim=1)\n",
        "        ) \n",
        "\n",
        "    def forward(self,x):\n",
        "        output = self.model(x)\n",
        "        return output\n",
        "    \n",
        "    def configure_optimizers(self):\n",
        "        optimizer = torch.optim.Adam(self.model.parameters(), lr= self.learning_rate)\n",
        "        return optimizer\n",
        "\n",
        "    def training_step(self, batch, batch_idx):\n",
        "        images,labels = batch     \n",
        "        prediction = self.forward(images)\n",
        "        loss = F.cross_entropy(prediction, labels)\n",
        "        acc = torchmetrics.functional.accuracy(prediction, labels,task='multiclass', num_classes=self.output_shape)\n",
        "        self.log('train_acc', acc)\n",
        "        self.log('train_loss', loss)\n",
        "        return loss\n",
        "\n",
        "    def validation_step(self, batch, batch_idx):\n",
        "        images,labels = batch\n",
        "        prediction = self.forward(images)\n",
        "        loss = F.cross_entropy(prediction, labels)\n",
        "        acc = torchmetrics.functional.accuracy(prediction, labels,task='multiclass', num_classes=self.output_shape)\n",
        "        self.log('val_acc', acc)\n",
        "        self.log('val_loss', loss)\n",
        "        \n",
        "    def test_step(self, batch, batch_idx):\n",
        "        images,labels = batch\n",
        "        prediction = self.forward(images)\n",
        "        loss = F.cross_entropy(prediction, labels)\n",
        "        self.index_test += 1\n",
        "        self.acc += torchmetrics.functional.accuracy(prediction, labels,task='multiclass', num_classes=self.output_shape)\n",
        "        self.log('test_loss', loss)\n",
        "        self.log('test_acc', self.acc)\n",
        "\n",
        "    def on_test_epoch_start(self):\n",
        "        self.acc = 0\n",
        "        self.index_test=0\n",
        "            \n",
        "    def on_test_epoch_end(self):\n",
        "        self.acc = self.acc/self.index_test            \n",
        "        self.log('Final Accuracy', self.acc)"
      ]
    },
    {
      "cell_type": "markdown",
      "metadata": {
        "id": "RwPYkPT551rQ"
      },
      "source": [
        "### iv - Train"
      ]
    },
    {
      "cell_type": "code",
      "execution_count": 7,
      "metadata": {
        "id": "2GdvMUH-51rQ"
      },
      "outputs": [
        {
          "name": "stderr",
          "output_type": "stream",
          "text": [
            "GPU available: True (cuda), used: True\n",
            "TPU available: False, using: 0 TPU cores\n",
            "IPU available: False, using: 0 IPUs\n",
            "HPU available: False, using: 0 HPUs\n"
          ]
        },
        {
          "name": "stdout",
          "output_type": "stream",
          "text": [
            "Files already downloaded and verified\n",
            "Files already downloaded and verified\n"
          ]
        },
        {
          "name": "stderr",
          "output_type": "stream",
          "text": [
            "LOCAL_RANK: 0 - CUDA_VISIBLE_DEVICES: [0]\n",
            "\n",
            "  | Name     | Type       | Params\n",
            "----------------------------------------\n",
            "0 | backbone | ConvNeXt   | 49.5 M\n",
            "1 | model    | Sequential | 49.5 M\n",
            "----------------------------------------\n",
            "49.5 M    Trainable params\n",
            "0         Non-trainable params\n",
            "49.5 M    Total params\n",
            "197.850   Total estimated model params size (MB)\n"
          ]
        },
        {
          "name": "stdout",
          "output_type": "stream",
          "text": [
            "Sanity Checking DataLoader 0:   0%|          | 0/2 [00:00<?, ?it/s]"
          ]
        },
        {
          "name": "stderr",
          "output_type": "stream",
          "text": [
            "/users/jorghern70/.local/lib/python3.10/site-packages/pytorch_lightning/trainer/connectors/data_connector.py:442: PossibleUserWarning: The dataloader, val_dataloader, does not have many workers which may be a bottleneck. Consider increasing the value of the `num_workers` argument` (try 16 which is the number of cpus on this machine) in the `DataLoader` init to improve performance.\n",
            "  rank_zero_warn(\n"
          ]
        },
        {
          "name": "stdout",
          "output_type": "stream",
          "text": [
            "                                                                           "
          ]
        },
        {
          "name": "stderr",
          "output_type": "stream",
          "text": [
            "/users/jorghern70/.local/lib/python3.10/site-packages/pytorch_lightning/trainer/connectors/data_connector.py:442: PossibleUserWarning: The dataloader, train_dataloader, does not have many workers which may be a bottleneck. Consider increasing the value of the `num_workers` argument` (try 16 which is the number of cpus on this machine) in the `DataLoader` init to improve performance.\n",
            "  rank_zero_warn(\n"
          ]
        },
        {
          "name": "stdout",
          "output_type": "stream",
          "text": [
            "Epoch 4: 100%|██████████| 1250/1250 [02:32<00:00,  8.21it/s, v_num=1]"
          ]
        },
        {
          "name": "stderr",
          "output_type": "stream",
          "text": [
            "/users/jorghern70/.local/lib/python3.10/site-packages/pytorch_lightning/trainer/call.py:53: UserWarning: Detected KeyboardInterrupt, attempting graceful shutdown...\n",
            "  rank_zero_warn(\"Detected KeyboardInterrupt, attempting graceful shutdown...\")\n"
          ]
        }
      ],
      "source": [
        "# TODO : Train\n",
        "import tensorboard\n",
        "tb_logger_cf = pl.loggers.TensorBoardLogger(\"CIFAR10_Training_Tuned_3\")\n",
        "\n",
        "dm_cf = CIFARDataModule()\n",
        "model_cf = CIFARClassifier_tuned(output_shape=10)\n",
        "\n",
        "trainer_cf = pl.Trainer(max_epochs=5,accelerator='gpu',logger=tb_logger_cf,enable_checkpointing=True)\n",
        "trainer_cf.fit(model_cf, dm_cf)"
      ]
    },
    {
      "cell_type": "markdown",
      "metadata": {
        "id": "hEJLdQuZ51rQ"
      },
      "source": [
        "### v - Test"
      ]
    },
    {
      "cell_type": "code",
      "execution_count": 8,
      "metadata": {
        "id": "DvxjzGdV51rQ"
      },
      "outputs": [
        {
          "name": "stdout",
          "output_type": "stream",
          "text": [
            "Files already downloaded and verified\n",
            "Files already downloaded and verified\n"
          ]
        },
        {
          "name": "stderr",
          "output_type": "stream",
          "text": [
            "LOCAL_RANK: 0 - CUDA_VISIBLE_DEVICES: [0]\n",
            "/users/jorghern70/.local/lib/python3.10/site-packages/pytorch_lightning/trainer/connectors/data_connector.py:442: PossibleUserWarning: The dataloader, test_dataloader, does not have many workers which may be a bottleneck. Consider increasing the value of the `num_workers` argument` (try 16 which is the number of cpus on this machine) in the `DataLoader` init to improve performance.\n",
            "  rank_zero_warn(\n"
          ]
        },
        {
          "name": "stdout",
          "output_type": "stream",
          "text": [
            "Testing DataLoader 0: 100%|██████████| 313/313 [00:09<00:00, 32.99it/s]\n",
            "────────────────────────────────────────────────────────────────────────────────────────────────────────────────────────\n",
            "       Test metric             DataLoader 0\n",
            "────────────────────────────────────────────────────────────────────────────────────────────────────────────────────────\n",
            "     Final Accuracy         0.9009584784507751\n",
            "        test_acc            141.08340454101562\n",
            "        test_loss           1.5597758293151855\n",
            "────────────────────────────────────────────────────────────────────────────────────────────────────────────────────────\n"
          ]
        },
        {
          "data": {
            "text/plain": [
              "[{'test_loss': 1.5597758293151855,\n",
              "  'test_acc': 141.08340454101562,\n",
              "  'Final Accuracy': 0.9009584784507751}]"
            ]
          },
          "execution_count": 8,
          "metadata": {},
          "output_type": "execute_result"
        }
      ],
      "source": [
        "# TODO : Test\n",
        "trainer_cf.test(model_cf, datamodule=dm_cf)"
      ]
    },
    {
      "cell_type": "markdown",
      "metadata": {
        "id": "USu9oo2wCV2j"
      },
      "source": [
        "\n",
        "* **What is your final accuracy ?**<br>\n",
        "0.90\n",
        "* **Is Fine Tuning a model better than creating your own model ?** <br>\n",
        "According to the obtained results so far, it seems Fine Tuning is better than training our own model. However, better architectures may achieve better resuls and thus, more experimentation and reading the literature may be needed to conclude"
      ]
    }
  ],
  "metadata": {
    "accelerator": "GPU",
    "colab": {
      "authorship_tag": "ABX9TyM0flVMh2FoR1OTSsyOXCwL",
      "include_colab_link": true,
      "name": "Introduction to Pytorch Lightning",
      "provenance": []
    },
    "kernelspec": {
      "display_name": "Python 3",
      "name": "python3"
    },
    "language_info": {
      "codemirror_mode": {
        "name": "ipython",
        "version": 3
      },
      "file_extension": ".py",
      "mimetype": "text/x-python",
      "name": "python",
      "nbconvert_exporter": "python",
      "pygments_lexer": "ipython3",
      "version": "3.10.12"
    }
  },
  "nbformat": 4,
  "nbformat_minor": 0
}
